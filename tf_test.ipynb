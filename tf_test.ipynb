{
 "cells": [
  {
   "cell_type": "code",
   "execution_count": 1,
   "metadata": {},
   "outputs": [],
   "source": [
    "import random\n",
    "import pandas as pd\n",
    "import tensorflow as tf"
   ]
  },
  {
   "cell_type": "code",
   "execution_count": 36,
   "metadata": {},
   "outputs": [],
   "source": [
    "tfrecord_filename = \"./dataset/zinc_smiles_train.tfrecords\"\n",
    "dataset = tf.data.TFRecordDataset(tfrecord_filename)"
   ]
  },
  {
   "cell_type": "code",
   "execution_count": 37,
   "metadata": {},
   "outputs": [],
   "source": [
    "smiles = []\n",
    "query = []\n",
    "answer = []"
   ]
  },
  {
   "cell_type": "code",
   "execution_count": 38,
   "metadata": {},
   "outputs": [],
   "source": [
    "def parse_tfrecord_fn(example):\n",
    "    example = example.numpy()\n",
    "    feature_description = {\n",
    "        'text': tf.io.FixedLenFeature([], tf.string),  # Assuming 'text' is a string feature\n",
    "        # ... Define other features\n",
    "    }\n",
    "    example = tf.io.parse_single_example(example, feature_description)\n",
    "    text = example['text'].numpy().decode('utf-8')\n",
    "    query = random.choice(['What is the SMILES of this molecule?', 'What is the SMILES string of this molecule?', 'What is the SMILES string of this compound?', 'What is the SMILES of this compound?', 'Give me the SMILES of this molecule.', 'Give me the SMILES of this compound.', 'Give me the SMILES string of this molecule.', 'Give me the SMILES string of this compound.'])\n",
    "    answer = text\n",
    "    return text, query, answer\n",
    "\n"
   ]
  },
  {
   "cell_type": "code",
   "execution_count": 39,
   "metadata": {},
   "outputs": [],
   "source": [
    "for example in dataset:\n",
    "    res = parse_tfrecord_fn(example)\n",
    "    smiles.append(res[0])\n",
    "    query.append(res[1])\n",
    "    answer.append(res[2])\n"
   ]
  },
  {
   "cell_type": "code",
   "execution_count": null,
   "metadata": {},
   "outputs": [],
   "source": [
    "pretrain_df = pd.DataFrame(columns=['smiles', 'query', 'answer'])\n",
    "pretrain_df['smiles'] = smiles\n",
    "pretrain_df['query'] = query\n",
    "pretrain_df['answer'] = answer\n",
    "\n",
    "pretrain_df.to_csv('./preproc/pretrain_1.csv', index=False)"
   ]
  },
  {
   "cell_type": "code",
   "execution_count": null,
   "metadata": {},
   "outputs": [],
   "source": []
  }
 ],
 "metadata": {
  "kernelspec": {
   "display_name": "py39_tf2",
   "language": "python",
   "name": "python3"
  },
  "language_info": {
   "codemirror_mode": {
    "name": "ipython",
    "version": 3
   },
   "file_extension": ".py",
   "mimetype": "text/x-python",
   "name": "python",
   "nbconvert_exporter": "python",
   "pygments_lexer": "ipython3",
   "version": "3.9.16"
  },
  "orig_nbformat": 4
 },
 "nbformat": 4,
 "nbformat_minor": 2
}
