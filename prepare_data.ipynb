{
 "cells": [
  {
   "cell_type": "code",
   "execution_count": 14,
   "metadata": {},
   "outputs": [],
   "source": [
    "import os\n",
    "import random\n",
    "import pandas as pd\n",
    "import selfies as sf\n",
    "\n",
    "from glob import glob\n",
    "from tqdm.auto import tqdm\n",
    "from datasets import load_dataset"
   ]
  },
  {
   "cell_type": "code",
   "execution_count": 19,
   "metadata": {},
   "outputs": [],
   "source": [
    "os.makedirs('./preproc', exist_ok=True)"
   ]
  },
  {
   "cell_type": "code",
   "execution_count": 2,
   "metadata": {},
   "outputs": [],
   "source": [
    "smiles = []\n",
    "query = []\n",
    "answer = []\n",
    "\n",
    "smiles_val=[]\n",
    "query_val=[]\n",
    "answer_val=[]"
   ]
  },
  {
   "cell_type": "code",
   "execution_count": 3,
   "metadata": {},
   "outputs": [],
   "source": [
    "mol_inst = load_dataset(\"zjunlp/Mol-Instructions\", 'Molecule-oriented Instructions')"
   ]
  },
  {
   "cell_type": "code",
   "execution_count": 4,
   "metadata": {},
   "outputs": [
    {
     "data": {
      "text/plain": [
       "dict_keys(['description_guided_molecule_design', 'forward_reaction_prediction', 'molecular_description_generation', 'property_prediction', 'reagent_prediction', 'retrosynthesis'])"
      ]
     },
     "execution_count": 4,
     "metadata": {},
     "output_type": "execute_result"
    }
   ],
   "source": [
    "mol_inst.keys()"
   ]
  },
  {
   "cell_type": "code",
   "execution_count": 5,
   "metadata": {},
   "outputs": [
    {
     "data": {
      "application/vnd.jupyter.widget-view+json": {
       "model_id": "2376c906701849489c1f52d57d1268b4",
       "version_major": 2,
       "version_minor": 0
      },
      "text/plain": [
       "  0%|          | 0/331261 [00:00<?, ?it/s]"
      ]
     },
     "metadata": {},
     "output_type": "display_data"
    }
   ],
   "source": [
    "for data in tqdm(mol_inst['molecular_description_generation']):\n",
    "    smiles.append(sf.decoder(data['input']))\n",
    "    query.append(data['instruction'])\n",
    "    answer.append(data['output'])"
   ]
  },
  {
   "cell_type": "code",
   "execution_count": 6,
   "metadata": {},
   "outputs": [
    {
     "data": {
      "application/vnd.jupyter.widget-view+json": {
       "model_id": "8dc7f410ee424a6e81b74ec816a8e279",
       "version_major": 2,
       "version_minor": 0
      },
      "text/plain": [
       "  0%|          | 0/401229 [00:00<?, ?it/s]"
      ]
     },
     "metadata": {},
     "output_type": "display_data"
    }
   ],
   "source": [
    "for data in tqdm(mol_inst['property_prediction']):\n",
    "    smiles.append(sf.decoder(data['input']))\n",
    "    query.append(data['instruction'])\n",
    "    answer.append(data['output'])"
   ]
  },
  {
   "cell_type": "code",
   "execution_count": 7,
   "metadata": {},
   "outputs": [
    {
     "data": {
      "application/vnd.jupyter.widget-view+json": {
       "model_id": "faf3b9b76dbb427ba8d999741b8e0f98",
       "version_major": 2,
       "version_minor": 0
      },
      "text/plain": [
       "  0%|          | 0/143535 [00:00<?, ?it/s]"
      ]
     },
     "metadata": {},
     "output_type": "display_data"
    }
   ],
   "source": [
    "for data in tqdm(mol_inst['retrosynthesis']):\n",
    "    smiles.append(sf.decoder(data['input']))\n",
    "    query.append(data['instruction'])\n",
    "    output_sfs = data['output'].split('.')\n",
    "    answer.append('.'.join(list(map(sf.decoder, output_sfs))))"
   ]
  },
  {
   "cell_type": "code",
   "execution_count": 8,
   "metadata": {},
   "outputs": [],
   "source": [
    "# from huggingface_hub import snapshot_download\n",
    "# snapshot_download(repo_id=\"haitengzhao/molecule_property_instruction\", repo_type=\"dataset\")"
   ]
  },
  {
   "cell_type": "code",
   "execution_count": 9,
   "metadata": {},
   "outputs": [],
   "source": [
    "bace_parquet = glob('C:\\\\Users\\\\dust\\\\.cache\\\\huggingface\\\\hub\\\\datasets--haitengzhao--molecule_property_instruction\\\\snapshots\\\\aad5c7578e811e1614be9430095de0c431485cf3\\\\data\\\\bace*')[0]"
   ]
  },
  {
   "cell_type": "code",
   "execution_count": 10,
   "metadata": {},
   "outputs": [],
   "source": [
    "bace_df = pd.read_parquet(bace_parquet)"
   ]
  },
  {
   "cell_type": "code",
   "execution_count": 11,
   "metadata": {},
   "outputs": [
    {
     "data": {
      "application/vnd.jupyter.widget-view+json": {
       "model_id": "bf8bd8d3a3c84882ab65b89c5b6fdb3b",
       "version_major": 2,
       "version_minor": 0
      },
      "text/plain": [
       "  0%|          | 0/1513 [00:00<?, ?it/s]"
      ]
     },
     "metadata": {},
     "output_type": "display_data"
    }
   ],
   "source": [
    "for idx, row in tqdm(bace_df.iterrows(), total=len(bace_df)):\n",
    "    if row['split'] == 'train':\n",
    "        for q in row['text']:\n",
    "            smiles.append(row['graph'])\n",
    "            query.append(q)\n",
    "            answer.append(row['label'])\n",
    "    elif row['split'] != 'train':\n",
    "        for q in row['text']:\n",
    "            smiles_val.append(row['graph'])\n",
    "            query_val.append(q)\n",
    "            answer_val.append(row['label'])"
   ]
  },
  {
   "cell_type": "code",
   "execution_count": 12,
   "metadata": {},
   "outputs": [],
   "source": [
    "bbbp_parquet = glob('C:\\\\Users\\\\dust\\\\.cache\\\\huggingface\\\\hub\\\\datasets--haitengzhao--molecule_property_instruction\\\\snapshots\\\\aad5c7578e811e1614be9430095de0c431485cf3\\\\data\\\\bbbp*')[0]"
   ]
  },
  {
   "cell_type": "code",
   "execution_count": 13,
   "metadata": {},
   "outputs": [],
   "source": [
    "bbbp_df = pd.read_parquet(bbbp_parquet)"
   ]
  },
  {
   "cell_type": "code",
   "execution_count": 14,
   "metadata": {},
   "outputs": [
    {
     "data": {
      "application/vnd.jupyter.widget-view+json": {
       "model_id": "8740dc9b01134cd38913ab39d8775a5d",
       "version_major": 2,
       "version_minor": 0
      },
      "text/plain": [
       "  0%|          | 0/2039 [00:00<?, ?it/s]"
      ]
     },
     "metadata": {},
     "output_type": "display_data"
    }
   ],
   "source": [
    "for idx, row in tqdm(bbbp_df.iterrows(), total=len(bbbp_df)):\n",
    "    if row['split'] == 'train':\n",
    "        for q in row['text']:\n",
    "            smiles.append(row['graph'])\n",
    "            query.append(q)\n",
    "            answer.append(row['label'])\n",
    "    elif row['split'] != 'train':\n",
    "        for q in row['text']:\n",
    "            smiles_val.append(row['graph'])\n",
    "            query_val.append(q)\n",
    "            answer_val.append(row['label'])"
   ]
  },
  {
   "cell_type": "code",
   "execution_count": 15,
   "metadata": {},
   "outputs": [
    {
     "data": {
      "application/vnd.jupyter.widget-view+json": {
       "model_id": "c09a56e22ca84f14aad22216a23d8fba",
       "version_major": 2,
       "version_minor": 0
      },
      "text/plain": [
       "  0%|          | 0/954974 [00:00<?, ?it/s]"
      ]
     },
     "metadata": {},
     "output_type": "display_data"
    },
    {
     "data": {
      "application/vnd.jupyter.widget-view+json": {
       "model_id": "45b345eb5736430c9cbe6b989259bbea",
       "version_major": 2,
       "version_minor": 0
      },
      "text/plain": [
       "  0%|          | 0/954974 [00:00<?, ?it/s]"
      ]
     },
     "metadata": {},
     "output_type": "display_data"
    },
    {
     "data": {
      "application/vnd.jupyter.widget-view+json": {
       "model_id": "d392d41919e04a41a25a269be7904bae",
       "version_major": 2,
       "version_minor": 0
      },
      "text/plain": [
       "  0%|          | 0/954974 [00:00<?, ?it/s]"
      ]
     },
     "metadata": {},
     "output_type": "display_data"
    },
    {
     "data": {
      "application/vnd.jupyter.widget-view+json": {
       "model_id": "2cf5f84c20f74955b4c0e0bed6a51fba",
       "version_major": 2,
       "version_minor": 0
      },
      "text/plain": [
       "  0%|          | 0/954974 [00:00<?, ?it/s]"
      ]
     },
     "metadata": {},
     "output_type": "display_data"
    },
    {
     "data": {
      "application/vnd.jupyter.widget-view+json": {
       "model_id": "7fc841d79b094abe8d2fcf0050788141",
       "version_major": 2,
       "version_minor": 0
      },
      "text/plain": [
       "  0%|          | 0/954974 [00:00<?, ?it/s]"
      ]
     },
     "metadata": {},
     "output_type": "display_data"
    },
    {
     "data": {
      "application/vnd.jupyter.widget-view+json": {
       "model_id": "f9292f2351574543a7f54b6d20363b71",
       "version_major": 2,
       "version_minor": 0
      },
      "text/plain": [
       "  0%|          | 0/954974 [00:00<?, ?it/s]"
      ]
     },
     "metadata": {},
     "output_type": "display_data"
    },
    {
     "data": {
      "application/vnd.jupyter.widget-view+json": {
       "model_id": "3092c3e177be4952a35bb8bd6eaf07ee",
       "version_major": 2,
       "version_minor": 0
      },
      "text/plain": [
       "  0%|          | 0/954974 [00:00<?, ?it/s]"
      ]
     },
     "metadata": {},
     "output_type": "display_data"
    },
    {
     "data": {
      "application/vnd.jupyter.widget-view+json": {
       "model_id": "7c8dd07d2aff4d14a37bb1123c9d9004",
       "version_major": 2,
       "version_minor": 0
      },
      "text/plain": [
       "  0%|          | 0/954974 [00:00<?, ?it/s]"
      ]
     },
     "metadata": {},
     "output_type": "display_data"
    },
    {
     "data": {
      "application/vnd.jupyter.widget-view+json": {
       "model_id": "83dff654bb4649909d3ab413e4d0b187",
       "version_major": 2,
       "version_minor": 0
      },
      "text/plain": [
       "  0%|          | 0/954974 [00:00<?, ?it/s]"
      ]
     },
     "metadata": {},
     "output_type": "display_data"
    },
    {
     "data": {
      "application/vnd.jupyter.widget-view+json": {
       "model_id": "7aeda30b5201461abf0b401d2126bb63",
       "version_major": 2,
       "version_minor": 0
      },
      "text/plain": [
       "  0%|          | 0/954974 [00:00<?, ?it/s]"
      ]
     },
     "metadata": {},
     "output_type": "display_data"
    },
    {
     "data": {
      "application/vnd.jupyter.widget-view+json": {
       "model_id": "8779de77ad524c41ac89eeefdcc54cfb",
       "version_major": 2,
       "version_minor": 0
      },
      "text/plain": [
       "  0%|          | 0/954974 [00:00<?, ?it/s]"
      ]
     },
     "metadata": {},
     "output_type": "display_data"
    },
    {
     "data": {
      "application/vnd.jupyter.widget-view+json": {
       "model_id": "b9156f6bf9fb464881c0458924f8a67b",
       "version_major": 2,
       "version_minor": 0
      },
      "text/plain": [
       "  0%|          | 0/954974 [00:00<?, ?it/s]"
      ]
     },
     "metadata": {},
     "output_type": "display_data"
    },
    {
     "data": {
      "application/vnd.jupyter.widget-view+json": {
       "model_id": "ea7dd00c798f483bb51396642c4a9d3e",
       "version_major": 2,
       "version_minor": 0
      },
      "text/plain": [
       "  0%|          | 0/954974 [00:00<?, ?it/s]"
      ]
     },
     "metadata": {},
     "output_type": "display_data"
    },
    {
     "data": {
      "application/vnd.jupyter.widget-view+json": {
       "model_id": "0fdec9175d7f40baa991dbfd6c9de73f",
       "version_major": 2,
       "version_minor": 0
      },
      "text/plain": [
       "  0%|          | 0/954974 [00:00<?, ?it/s]"
      ]
     },
     "metadata": {},
     "output_type": "display_data"
    },
    {
     "data": {
      "application/vnd.jupyter.widget-view+json": {
       "model_id": "1eb1b3b1c8414c40bff053563ac70790",
       "version_major": 2,
       "version_minor": 0
      },
      "text/plain": [
       "  0%|          | 0/954974 [00:00<?, ?it/s]"
      ]
     },
     "metadata": {},
     "output_type": "display_data"
    },
    {
     "data": {
      "application/vnd.jupyter.widget-view+json": {
       "model_id": "82af7c38c16a4382addc3045dd0323b7",
       "version_major": 2,
       "version_minor": 0
      },
      "text/plain": [
       "  0%|          | 0/954974 [00:00<?, ?it/s]"
      ]
     },
     "metadata": {},
     "output_type": "display_data"
    },
    {
     "data": {
      "application/vnd.jupyter.widget-view+json": {
       "model_id": "6ad0790e2b6544948fb986113ca457cd",
       "version_major": 2,
       "version_minor": 0
      },
      "text/plain": [
       "  0%|          | 0/954974 [00:00<?, ?it/s]"
      ]
     },
     "metadata": {},
     "output_type": "display_data"
    },
    {
     "data": {
      "application/vnd.jupyter.widget-view+json": {
       "model_id": "1b40ddb2fac9433bb9ced7462d0a7a89",
       "version_major": 2,
       "version_minor": 0
      },
      "text/plain": [
       "  0%|          | 0/954974 [00:00<?, ?it/s]"
      ]
     },
     "metadata": {},
     "output_type": "display_data"
    },
    {
     "data": {
      "application/vnd.jupyter.widget-view+json": {
       "model_id": "dac1e5b806674cb0b7180eb0b45dfaea",
       "version_major": 2,
       "version_minor": 0
      },
      "text/plain": [
       "  0%|          | 0/954974 [00:00<?, ?it/s]"
      ]
     },
     "metadata": {},
     "output_type": "display_data"
    },
    {
     "data": {
      "application/vnd.jupyter.widget-view+json": {
       "model_id": "c8d5abbf33254dc49fe1ba273c900e00",
       "version_major": 2,
       "version_minor": 0
      },
      "text/plain": [
       "  0%|          | 0/954974 [00:00<?, ?it/s]"
      ]
     },
     "metadata": {},
     "output_type": "display_data"
    },
    {
     "data": {
      "application/vnd.jupyter.widget-view+json": {
       "model_id": "89c7602588874e77b578d155046b499f",
       "version_major": 2,
       "version_minor": 0
      },
      "text/plain": [
       "  0%|          | 0/954974 [00:00<?, ?it/s]"
      ]
     },
     "metadata": {},
     "output_type": "display_data"
    },
    {
     "data": {
      "application/vnd.jupyter.widget-view+json": {
       "model_id": "9c744ee419614127bc5c9b4647b09ff2",
       "version_major": 2,
       "version_minor": 0
      },
      "text/plain": [
       "  0%|          | 0/954973 [00:00<?, ?it/s]"
      ]
     },
     "metadata": {},
     "output_type": "display_data"
    },
    {
     "data": {
      "application/vnd.jupyter.widget-view+json": {
       "model_id": "acb4e6fee1774e2a88d64c60a30a724f",
       "version_major": 2,
       "version_minor": 0
      },
      "text/plain": [
       "  0%|          | 0/954973 [00:00<?, ?it/s]"
      ]
     },
     "metadata": {},
     "output_type": "display_data"
    },
    {
     "data": {
      "application/vnd.jupyter.widget-view+json": {
       "model_id": "a4e57515cbaf434f84d11edc9a52aaec",
       "version_major": 2,
       "version_minor": 0
      },
      "text/plain": [
       "  0%|          | 0/954973 [00:00<?, ?it/s]"
      ]
     },
     "metadata": {},
     "output_type": "display_data"
    },
    {
     "data": {
      "application/vnd.jupyter.widget-view+json": {
       "model_id": "f9ca540d216f464d8568c82c615b89b0",
       "version_major": 2,
       "version_minor": 0
      },
      "text/plain": [
       "  0%|          | 0/954973 [00:00<?, ?it/s]"
      ]
     },
     "metadata": {},
     "output_type": "display_data"
    },
    {
     "data": {
      "application/vnd.jupyter.widget-view+json": {
       "model_id": "fba95c78d4b64b41b516a363d0df6174",
       "version_major": 2,
       "version_minor": 0
      },
      "text/plain": [
       "  0%|          | 0/180229 [00:00<?, ?it/s]"
      ]
     },
     "metadata": {},
     "output_type": "display_data"
    }
   ],
   "source": [
    "chembl_parquets = glob('C:\\\\Users\\\\dust\\\\.cache\\\\huggingface\\\\hub\\\\datasets--haitengzhao--molecule_property_instruction\\\\snapshots\\\\aad5c7578e811e1614be9430095de0c431485cf3\\\\data\\\\chembl*')\n",
    "for chembl_parquet in tqdm(chembl_parquets, total=len(chembl_parquets)):\n",
    "    chembl_df = pd.read_parquet(chembl_parquet)\n",
    "    for idx, row in hembl_df.iterrows():\n",
    "        if row['split'] == 'train':\n",
    "            for q in row['text']:\n",
    "                smiles.append(row['graph'])\n",
    "                query.append(q)\n",
    "                answer.append(row['label'])\n",
    "        elif row['split'] != 'train':\n",
    "            for q in row['text']:\n",
    "                smiles_val.append(row['graph'])\n",
    "                query_val.append(q)\n",
    "                answer_val.append(row['label'])"
   ]
  },
  {
   "cell_type": "code",
   "execution_count": 16,
   "metadata": {},
   "outputs": [],
   "source": [
    "esol_parquet = glob('C:\\\\Users\\\\dust\\\\.cache\\\\huggingface\\\\hub\\\\datasets--haitengzhao--molecule_property_instruction\\\\snapshots\\\\aad5c7578e811e1614be9430095de0c431485cf3\\\\data\\\\esol*')[0]"
   ]
  },
  {
   "cell_type": "code",
   "execution_count": 17,
   "metadata": {},
   "outputs": [],
   "source": [
    "esol_df = pd.read_parquet(esol_parquet)"
   ]
  },
  {
   "cell_type": "code",
   "execution_count": 18,
   "metadata": {},
   "outputs": [
    {
     "data": {
      "application/vnd.jupyter.widget-view+json": {
       "model_id": "4ec24fa5b5264875ba5038dd301d874f",
       "version_major": 2,
       "version_minor": 0
      },
      "text/plain": [
       "  0%|          | 0/1128 [00:00<?, ?it/s]"
      ]
     },
     "metadata": {},
     "output_type": "display_data"
    }
   ],
   "source": [
    "for idx, row in tqdm(esol_df.iterrows(), total=len(esol_df)):\n",
    "    if row['split'] == 'train':\n",
    "        for q in row['text']:\n",
    "            smiles.append(row['graph'])\n",
    "            query.append(q)\n",
    "            answer.append(row['label'])\n",
    "    elif row['split'] != 'train':\n",
    "        for q in row['text']:\n",
    "            smiles_val.append(row['graph'])\n",
    "            query_val.append(q)\n",
    "            answer_val.append(row['label'])"
   ]
  },
  {
   "cell_type": "code",
   "execution_count": 19,
   "metadata": {},
   "outputs": [],
   "source": [
    "lipo_parquet = glob('C:\\\\Users\\\\dust\\\\.cache\\\\huggingface\\\\hub\\\\datasets--haitengzhao--molecule_property_instruction\\\\snapshots\\\\aad5c7578e811e1614be9430095de0c431485cf3\\\\data\\\\lipo*')[0]\n",
    "lipo_df = pd.read_parquet(lipo_parquet)"
   ]
  },
  {
   "cell_type": "code",
   "execution_count": 20,
   "metadata": {},
   "outputs": [
    {
     "data": {
      "application/vnd.jupyter.widget-view+json": {
       "model_id": "79c499b78d304e449bcb0865859319dd",
       "version_major": 2,
       "version_minor": 0
      },
      "text/plain": [
       "  0%|          | 0/4200 [00:00<?, ?it/s]"
      ]
     },
     "metadata": {},
     "output_type": "display_data"
    }
   ],
   "source": [
    "for idx, row in tqdm(lipo_df.iterrows(), total=len(lipo_df)):\n",
    "    if row['split'] == 'train':\n",
    "        for q in row['text']:\n",
    "            smiles.append(row['graph'])\n",
    "            query.append(q)\n",
    "            answer.append(row['label'])\n",
    "    elif row['split'] != 'train':\n",
    "        for q in row['text']:\n",
    "            smiles_val.append(row['graph'])\n",
    "            query_val.append(q)\n",
    "            answer_val.append(row['label'])"
   ]
  },
  {
   "cell_type": "code",
   "execution_count": 21,
   "metadata": {},
   "outputs": [],
   "source": [
    "freesolv_parquet = glob('C:\\\\Users\\\\dust\\\\.cache\\\\huggingface\\\\hub\\\\datasets--haitengzhao--molecule_property_instruction\\\\snapshots\\\\aad5c7578e811e1614be9430095de0c431485cf3\\\\data\\\\freesolv*')[0]\n",
    "freesolv_df = pd.read_parquet(freesolv_parquet)"
   ]
  },
  {
   "cell_type": "code",
   "execution_count": 22,
   "metadata": {},
   "outputs": [
    {
     "data": {
      "application/vnd.jupyter.widget-view+json": {
       "model_id": "89a69be140b14660b08117a48893d3ef",
       "version_major": 2,
       "version_minor": 0
      },
      "text/plain": [
       "  0%|          | 0/642 [00:00<?, ?it/s]"
      ]
     },
     "metadata": {},
     "output_type": "display_data"
    }
   ],
   "source": [
    "for idx, row in tqdm(freesolv_df.iterrows(), total=len(freesolv_df)):\n",
    "    if row['split'] == 'train':\n",
    "        for q in row['text']:\n",
    "            smiles.append(row['graph'])\n",
    "            query.append(q)\n",
    "            answer.append(row['label'])\n",
    "    elif row['split'] != 'train':\n",
    "        for q in row['text']:\n",
    "            smiles_val.append(row['graph'])\n",
    "            query_val.append(q)\n",
    "            answer_val.append(row['label'])"
   ]
  },
  {
   "cell_type": "code",
   "execution_count": 23,
   "metadata": {},
   "outputs": [],
   "source": [
    "hiv_parquet = glob('C:\\\\Users\\\\dust\\\\.cache\\\\huggingface\\\\hub\\\\datasets--haitengzhao--molecule_property_instruction\\\\snapshots\\\\aad5c7578e811e1614be9430095de0c431485cf3\\\\data\\\\hiv*')[0]\n",
    "hiv_df = pd.read_parquet(hiv_parquet)"
   ]
  },
  {
   "cell_type": "code",
   "execution_count": 24,
   "metadata": {},
   "outputs": [
    {
     "data": {
      "application/vnd.jupyter.widget-view+json": {
       "model_id": "f5ac4c3c9faf496cbd6cb5cc05c38bd2",
       "version_major": 2,
       "version_minor": 0
      },
      "text/plain": [
       "  0%|          | 0/41127 [00:00<?, ?it/s]"
      ]
     },
     "metadata": {},
     "output_type": "display_data"
    }
   ],
   "source": [
    "for idx, row in tqdm(hiv_df.iterrows(), total=len(hiv_df)):\n",
    "    if row['split'] == 'train':\n",
    "        for q in row['text']:\n",
    "            smiles.append(row['graph'])\n",
    "            query.append(q)\n",
    "            answer.append(row['label'])\n",
    "    elif row['split'] != 'train':\n",
    "        for q in row['text']:\n",
    "            smiles_val.append(row['graph'])\n",
    "            query_val.append(q)\n",
    "            answer_val.append(row['label'])"
   ]
  },
  {
   "cell_type": "code",
   "execution_count": 25,
   "metadata": {},
   "outputs": [],
   "source": [
    "muv_parquets = glob('C:\\\\Users\\\\dust\\\\.cache\\\\huggingface\\\\hub\\\\datasets--haitengzhao--molecule_property_instruction\\\\snapshots\\\\aad5c7578e811e1614be9430095de0c431485cf3\\\\data\\\\muv*')"
   ]
  },
  {
   "cell_type": "code",
   "execution_count": 26,
   "metadata": {},
   "outputs": [
    {
     "data": {
      "application/vnd.jupyter.widget-view+json": {
       "model_id": "a5e3797d0d314adab5ba3256245821c5",
       "version_major": 2,
       "version_minor": 0
      },
      "text/plain": [
       "  0%|          | 0/124943 [00:00<?, ?it/s]"
      ]
     },
     "metadata": {},
     "output_type": "display_data"
    },
    {
     "data": {
      "application/vnd.jupyter.widget-view+json": {
       "model_id": "cdfd9f534eb747f9826b5ffac00174bd",
       "version_major": 2,
       "version_minor": 0
      },
      "text/plain": [
       "  0%|          | 0/124943 [00:00<?, ?it/s]"
      ]
     },
     "metadata": {},
     "output_type": "display_data"
    }
   ],
   "source": [
    "for muv_parquet in muv_parquets:\n",
    "    muv_df = pd.read_parquet(muv_parquet)\n",
    "    for idx, row in tqdm(muv_df.iterrows(), total=len(muv_df)):\n",
    "        if row['split'] == 'train':\n",
    "            for q in row['text']:\n",
    "                smiles.append(row['graph'])\n",
    "                query.append(q)\n",
    "                answer.append(row['label'])\n",
    "        elif row['split'] != 'train':\n",
    "            for q in row['text']:\n",
    "                smiles_val.append(row['graph'])\n",
    "                query_val.append(q)\n",
    "                answer_val.append(row['label'])"
   ]
  },
  {
   "cell_type": "code",
   "execution_count": 27,
   "metadata": {},
   "outputs": [],
   "source": [
    "tox21_parquet = glob('C:\\\\Users\\\\dust\\\\.cache\\\\huggingface\\\\hub\\\\datasets--haitengzhao--molecule_property_instruction\\\\snapshots\\\\aad5c7578e811e1614be9430095de0c431485cf3\\\\data\\\\tox21*')[0]\n",
    "tox21_df = pd.read_parquet(tox21_parquet)"
   ]
  },
  {
   "cell_type": "code",
   "execution_count": 28,
   "metadata": {},
   "outputs": [
    {
     "data": {
      "application/vnd.jupyter.widget-view+json": {
       "model_id": "089ff697c67b4e5399df78737b2bd08a",
       "version_major": 2,
       "version_minor": 0
      },
      "text/plain": [
       "  0%|          | 0/77946 [00:00<?, ?it/s]"
      ]
     },
     "metadata": {},
     "output_type": "display_data"
    }
   ],
   "source": [
    "for idx, row in tqdm(tox21_df.iterrows(), total=len(tox21_df)):\n",
    "    if row['split'] == 'train':\n",
    "        for q in row['text']:\n",
    "            smiles.append(row['graph'])\n",
    "            query.append(q)\n",
    "            answer.append(row['label'])\n",
    "    elif row['split'] != 'train':\n",
    "        for q in row['text']:\n",
    "            smiles_val.append(row['graph'])\n",
    "            query_val.append(q)\n",
    "            answer_val.append(row['label'])"
   ]
  },
  {
   "cell_type": "code",
   "execution_count": 29,
   "metadata": {},
   "outputs": [],
   "source": [
    "toxcast_parquets = glob('C:\\\\Users\\\\dust\\\\.cache\\\\huggingface\\\\hub\\\\datasets--haitengzhao--molecule_property_instruction\\\\snapshots\\\\aad5c7578e811e1614be9430095de0c431485cf3\\\\data\\\\toxcast*')"
   ]
  },
  {
   "cell_type": "code",
   "execution_count": 30,
   "metadata": {},
   "outputs": [
    {
     "data": {
      "application/vnd.jupyter.widget-view+json": {
       "model_id": "08a152a03b694faead3577569a884657",
       "version_major": 2,
       "version_minor": 0
      },
      "text/plain": [
       "  0%|          | 0/372603 [00:00<?, ?it/s]"
      ]
     },
     "metadata": {},
     "output_type": "display_data"
    },
    {
     "data": {
      "application/vnd.jupyter.widget-view+json": {
       "model_id": "cedb4d03a1c74c2aaa323e95717542f9",
       "version_major": 2,
       "version_minor": 0
      },
      "text/plain": [
       "  0%|          | 0/372603 [00:00<?, ?it/s]"
      ]
     },
     "metadata": {},
     "output_type": "display_data"
    },
    {
     "data": {
      "application/vnd.jupyter.widget-view+json": {
       "model_id": "a36ebff504f046e98efad9fbe70c5fa4",
       "version_major": 2,
       "version_minor": 0
      },
      "text/plain": [
       "  0%|          | 0/372603 [00:00<?, ?it/s]"
      ]
     },
     "metadata": {},
     "output_type": "display_data"
    },
    {
     "data": {
      "application/vnd.jupyter.widget-view+json": {
       "model_id": "a11aec18b87a4c419e12bf65fa6cf1f8",
       "version_major": 2,
       "version_minor": 0
      },
      "text/plain": [
       "  0%|          | 0/372603 [00:00<?, ?it/s]"
      ]
     },
     "metadata": {},
     "output_type": "display_data"
    }
   ],
   "source": [
    "for toxcast_parquet in toxcast_parquets:\n",
    "    toxcast_df = pd.read_parquet(toxcast_parquet)\n",
    "    for idx, row in tqdm(toxcast_df.iterrows(), total=len(toxcast_df)):\n",
    "        if row['split'] == 'train':\n",
    "            for q in row['text']:\n",
    "                smiles.append(row['graph'])\n",
    "                query.append(q)\n",
    "                answer.append(row['label'])\n",
    "        elif row['split'] != 'train':\n",
    "            for q in row['text']:\n",
    "                smiles_val.append(row['graph'])\n",
    "                query_val.append(q)\n",
    "                answer_val.append(row['label'])"
   ]
  },
  {
   "cell_type": "code",
   "execution_count": 31,
   "metadata": {},
   "outputs": [],
   "source": [
    "cyp450_parquet = glob('C:\\\\Users\\\\dust\\\\.cache\\\\huggingface\\\\hub\\\\datasets--haitengzhao--molecule_property_instruction\\\\snapshots\\\\aad5c7578e811e1614be9430095de0c431485cf3\\\\data\\\\cyp450*')[0]\n",
    "cyp450_df = pd.read_parquet(cyp450_parquet)"
   ]
  },
  {
   "cell_type": "code",
   "execution_count": 32,
   "metadata": {},
   "outputs": [
    {
     "data": {
      "application/vnd.jupyter.widget-view+json": {
       "model_id": "da1293971b6840ae8211e33c5fbdb295",
       "version_major": 2,
       "version_minor": 0
      },
      "text/plain": [
       "  0%|          | 0/53178 [00:00<?, ?it/s]"
      ]
     },
     "metadata": {},
     "output_type": "display_data"
    }
   ],
   "source": [
    "for idx, row in tqdm(cyp450_df.iterrows(), total=len(cyp450_df)):\n",
    "    if row['split'] == 'train':\n",
    "        for q in row['text']:\n",
    "            smiles.append(row['graph'])\n",
    "            query.append(q)\n",
    "            answer.append(row['label'])\n",
    "    elif row['split'] != 'train':\n",
    "        for q in row['text']:\n",
    "            smiles_val.append(row['graph'])\n",
    "            query_val.append(q)\n",
    "            answer_val.append(row['label'])"
   ]
  },
  {
   "cell_type": "code",
   "execution_count": 33,
   "metadata": {},
   "outputs": [],
   "source": [
    "pcba_parquets = glob('C:\\\\Users\\\\dust\\\\.cache\\\\huggingface\\\\hub\\\\datasets--haitengzhao--molecule_property_instruction\\\\snapshots\\\\aad5c7578e811e1614be9430095de0c431485cf3\\\\data\\\\pcba*')"
   ]
  },
  {
   "cell_type": "code",
   "execution_count": 34,
   "metadata": {},
   "outputs": [
    {
     "data": {
      "application/vnd.jupyter.widget-view+json": {
       "model_id": "438e9e9b602f4623b207eb645fb40039",
       "version_major": 2,
       "version_minor": 0
      },
      "text/plain": [
       "  0%|          | 0/773118 [00:00<?, ?it/s]"
      ]
     },
     "metadata": {},
     "output_type": "display_data"
    },
    {
     "data": {
      "application/vnd.jupyter.widget-view+json": {
       "model_id": "baf9bbccb604469ca8ba835a6cc29e64",
       "version_major": 2,
       "version_minor": 0
      },
      "text/plain": [
       "  0%|          | 0/773118 [00:00<?, ?it/s]"
      ]
     },
     "metadata": {},
     "output_type": "display_data"
    },
    {
     "data": {
      "application/vnd.jupyter.widget-view+json": {
       "model_id": "f44da40f67cb4e8aad3fc6e7f1ca455b",
       "version_major": 2,
       "version_minor": 0
      },
      "text/plain": [
       "  0%|          | 0/773118 [00:00<?, ?it/s]"
      ]
     },
     "metadata": {},
     "output_type": "display_data"
    },
    {
     "data": {
      "application/vnd.jupyter.widget-view+json": {
       "model_id": "6b1a8f52ef014f2c8c764b49953ffc22",
       "version_major": 2,
       "version_minor": 0
      },
      "text/plain": [
       "  0%|          | 0/773118 [00:00<?, ?it/s]"
      ]
     },
     "metadata": {},
     "output_type": "display_data"
    },
    {
     "data": {
      "application/vnd.jupyter.widget-view+json": {
       "model_id": "185d371197134a07b613f8e452ba7c1e",
       "version_major": 2,
       "version_minor": 0
      },
      "text/plain": [
       "  0%|          | 0/773118 [00:00<?, ?it/s]"
      ]
     },
     "metadata": {},
     "output_type": "display_data"
    },
    {
     "data": {
      "application/vnd.jupyter.widget-view+json": {
       "model_id": "6d055d843bd54899889c94519d38881c",
       "version_major": 2,
       "version_minor": 0
      },
      "text/plain": [
       "  0%|          | 0/773118 [00:00<?, ?it/s]"
      ]
     },
     "metadata": {},
     "output_type": "display_data"
    },
    {
     "data": {
      "application/vnd.jupyter.widget-view+json": {
       "model_id": "cf76e084367f47fd97c9fe7db930fba0",
       "version_major": 2,
       "version_minor": 0
      },
      "text/plain": [
       "  0%|          | 0/773118 [00:00<?, ?it/s]"
      ]
     },
     "metadata": {},
     "output_type": "display_data"
    },
    {
     "data": {
      "application/vnd.jupyter.widget-view+json": {
       "model_id": "62b8da4f5cef41f98f34194ef7f582b4",
       "version_major": 2,
       "version_minor": 0
      },
      "text/plain": [
       "  0%|          | 0/773118 [00:00<?, ?it/s]"
      ]
     },
     "metadata": {},
     "output_type": "display_data"
    },
    {
     "data": {
      "application/vnd.jupyter.widget-view+json": {
       "model_id": "cd53530b72464775b27acc3199744572",
       "version_major": 2,
       "version_minor": 0
      },
      "text/plain": [
       "  0%|          | 0/773118 [00:00<?, ?it/s]"
      ]
     },
     "metadata": {},
     "output_type": "display_data"
    },
    {
     "data": {
      "application/vnd.jupyter.widget-view+json": {
       "model_id": "550b9111765a4a83996d9952217e3776",
       "version_major": 2,
       "version_minor": 0
      },
      "text/plain": [
       "  0%|          | 0/773118 [00:00<?, ?it/s]"
      ]
     },
     "metadata": {},
     "output_type": "display_data"
    },
    {
     "data": {
      "application/vnd.jupyter.widget-view+json": {
       "model_id": "9408e91545b1481e9c269b801f424307",
       "version_major": 2,
       "version_minor": 0
      },
      "text/plain": [
       "  0%|          | 0/773118 [00:00<?, ?it/s]"
      ]
     },
     "metadata": {},
     "output_type": "display_data"
    },
    {
     "data": {
      "application/vnd.jupyter.widget-view+json": {
       "model_id": "694e26f00cc346508a5c40129d49e85c",
       "version_major": 2,
       "version_minor": 0
      },
      "text/plain": [
       "  0%|          | 0/773118 [00:00<?, ?it/s]"
      ]
     },
     "metadata": {},
     "output_type": "display_data"
    },
    {
     "data": {
      "application/vnd.jupyter.widget-view+json": {
       "model_id": "ae69db83576c4e8b9abf2871f1923b35",
       "version_major": 2,
       "version_minor": 0
      },
      "text/plain": [
       "  0%|          | 0/773118 [00:00<?, ?it/s]"
      ]
     },
     "metadata": {},
     "output_type": "display_data"
    },
    {
     "data": {
      "application/vnd.jupyter.widget-view+json": {
       "model_id": "27bf759d0c094e7ab2bcd1112dba5189",
       "version_major": 2,
       "version_minor": 0
      },
      "text/plain": [
       "  0%|          | 0/773118 [00:00<?, ?it/s]"
      ]
     },
     "metadata": {},
     "output_type": "display_data"
    },
    {
     "data": {
      "application/vnd.jupyter.widget-view+json": {
       "model_id": "25db71596cbf49df8cb6331c859d6f74",
       "version_major": 2,
       "version_minor": 0
      },
      "text/plain": [
       "  0%|          | 0/773118 [00:00<?, ?it/s]"
      ]
     },
     "metadata": {},
     "output_type": "display_data"
    },
    {
     "data": {
      "application/vnd.jupyter.widget-view+json": {
       "model_id": "a640a666fa9d4c0cabc655e6d5f37ca2",
       "version_major": 2,
       "version_minor": 0
      },
      "text/plain": [
       "  0%|          | 0/773118 [00:00<?, ?it/s]"
      ]
     },
     "metadata": {},
     "output_type": "display_data"
    },
    {
     "data": {
      "application/vnd.jupyter.widget-view+json": {
       "model_id": "bb6e4e8cf9ad49f6a5d2fa15573d7409",
       "version_major": 2,
       "version_minor": 0
      },
      "text/plain": [
       "  0%|          | 0/773118 [00:00<?, ?it/s]"
      ]
     },
     "metadata": {},
     "output_type": "display_data"
    },
    {
     "data": {
      "application/vnd.jupyter.widget-view+json": {
       "model_id": "473bd35038f041faa2538654f673c40f",
       "version_major": 2,
       "version_minor": 0
      },
      "text/plain": [
       "  0%|          | 0/773118 [00:00<?, ?it/s]"
      ]
     },
     "metadata": {},
     "output_type": "display_data"
    },
    {
     "data": {
      "application/vnd.jupyter.widget-view+json": {
       "model_id": "ad079975976d4cd1add6241d7e003618",
       "version_major": 2,
       "version_minor": 0
      },
      "text/plain": [
       "  0%|          | 0/773118 [00:00<?, ?it/s]"
      ]
     },
     "metadata": {},
     "output_type": "display_data"
    },
    {
     "data": {
      "application/vnd.jupyter.widget-view+json": {
       "model_id": "00d2ecba40774fe9b306cf1622173f63",
       "version_major": 2,
       "version_minor": 0
      },
      "text/plain": [
       "  0%|          | 0/773118 [00:00<?, ?it/s]"
      ]
     },
     "metadata": {},
     "output_type": "display_data"
    },
    {
     "data": {
      "application/vnd.jupyter.widget-view+json": {
       "model_id": "d0900b54fc0d417d8596079f78f5286c",
       "version_major": 2,
       "version_minor": 0
      },
      "text/plain": [
       "  0%|          | 0/773118 [00:00<?, ?it/s]"
      ]
     },
     "metadata": {},
     "output_type": "display_data"
    },
    {
     "data": {
      "application/vnd.jupyter.widget-view+json": {
       "model_id": "1b3b79ff86d24825a288c46c8c9e42d1",
       "version_major": 2,
       "version_minor": 0
      },
      "text/plain": [
       "  0%|          | 0/773118 [00:00<?, ?it/s]"
      ]
     },
     "metadata": {},
     "output_type": "display_data"
    },
    {
     "data": {
      "application/vnd.jupyter.widget-view+json": {
       "model_id": "8b08c8002f4845d0bf7b30c94a722acc",
       "version_major": 2,
       "version_minor": 0
      },
      "text/plain": [
       "  0%|          | 0/773117 [00:00<?, ?it/s]"
      ]
     },
     "metadata": {},
     "output_type": "display_data"
    },
    {
     "data": {
      "application/vnd.jupyter.widget-view+json": {
       "model_id": "8aa7cece99814e0189c4b16c56efe8bf",
       "version_major": 2,
       "version_minor": 0
      },
      "text/plain": [
       "  0%|          | 0/773117 [00:00<?, ?it/s]"
      ]
     },
     "metadata": {},
     "output_type": "display_data"
    },
    {
     "data": {
      "application/vnd.jupyter.widget-view+json": {
       "model_id": "a1b638ac17c74f33915d1efe87a946d7",
       "version_major": 2,
       "version_minor": 0
      },
      "text/plain": [
       "  0%|          | 0/773117 [00:00<?, ?it/s]"
      ]
     },
     "metadata": {},
     "output_type": "display_data"
    },
    {
     "data": {
      "application/vnd.jupyter.widget-view+json": {
       "model_id": "47a8618d61e64950970344191e995ef8",
       "version_major": 2,
       "version_minor": 0
      },
      "text/plain": [
       "  0%|          | 0/773117 [00:00<?, ?it/s]"
      ]
     },
     "metadata": {},
     "output_type": "display_data"
    },
    {
     "data": {
      "application/vnd.jupyter.widget-view+json": {
       "model_id": "d03eabed3fb74a02b6e1c62a52c244ed",
       "version_major": 2,
       "version_minor": 0
      },
      "text/plain": [
       "  0%|          | 0/773117 [00:00<?, ?it/s]"
      ]
     },
     "metadata": {},
     "output_type": "display_data"
    },
    {
     "data": {
      "application/vnd.jupyter.widget-view+json": {
       "model_id": "b9b5f834752a4b3bb0f7c3f9af077151",
       "version_major": 2,
       "version_minor": 0
      },
      "text/plain": [
       "  0%|          | 0/773117 [00:00<?, ?it/s]"
      ]
     },
     "metadata": {},
     "output_type": "display_data"
    },
    {
     "data": {
      "application/vnd.jupyter.widget-view+json": {
       "model_id": "7ba55fe781674c7f80347b524f1b68ab",
       "version_major": 2,
       "version_minor": 0
      },
      "text/plain": [
       "  0%|          | 0/773117 [00:00<?, ?it/s]"
      ]
     },
     "metadata": {},
     "output_type": "display_data"
    },
    {
     "data": {
      "application/vnd.jupyter.widget-view+json": {
       "model_id": "799adcf7e5374d0a8ceca499e5db952d",
       "version_major": 2,
       "version_minor": 0
      },
      "text/plain": [
       "  0%|          | 0/773117 [00:00<?, ?it/s]"
      ]
     },
     "metadata": {},
     "output_type": "display_data"
    },
    {
     "data": {
      "application/vnd.jupyter.widget-view+json": {
       "model_id": "766d2b2f7c1e41448a6207af2309bf61",
       "version_major": 2,
       "version_minor": 0
      },
      "text/plain": [
       "  0%|          | 0/773117 [00:00<?, ?it/s]"
      ]
     },
     "metadata": {},
     "output_type": "display_data"
    },
    {
     "data": {
      "application/vnd.jupyter.widget-view+json": {
       "model_id": "02905b7bf8d946379d106992b6f4dffa",
       "version_major": 2,
       "version_minor": 0
      },
      "text/plain": [
       "  0%|          | 0/773117 [00:00<?, ?it/s]"
      ]
     },
     "metadata": {},
     "output_type": "display_data"
    },
    {
     "data": {
      "application/vnd.jupyter.widget-view+json": {
       "model_id": "37180d15adb94979a2c7a0a20840bba1",
       "version_major": 2,
       "version_minor": 0
      },
      "text/plain": [
       "  0%|          | 0/773117 [00:00<?, ?it/s]"
      ]
     },
     "metadata": {},
     "output_type": "display_data"
    },
    {
     "data": {
      "application/vnd.jupyter.widget-view+json": {
       "model_id": "d29980836dcf489b9a7ff4bd54ef3401",
       "version_major": 2,
       "version_minor": 0
      },
      "text/plain": [
       "  0%|          | 0/773117 [00:00<?, ?it/s]"
      ]
     },
     "metadata": {},
     "output_type": "display_data"
    },
    {
     "data": {
      "application/vnd.jupyter.widget-view+json": {
       "model_id": "51f8e44263de46548b5041e243e2a871",
       "version_major": 2,
       "version_minor": 0
      },
      "text/plain": [
       "  0%|          | 0/773117 [00:00<?, ?it/s]"
      ]
     },
     "metadata": {},
     "output_type": "display_data"
    },
    {
     "data": {
      "application/vnd.jupyter.widget-view+json": {
       "model_id": "2ebdbd1206694da4b8606c69da6a65ba",
       "version_major": 2,
       "version_minor": 0
      },
      "text/plain": [
       "  0%|          | 0/773117 [00:00<?, ?it/s]"
      ]
     },
     "metadata": {},
     "output_type": "display_data"
    },
    {
     "data": {
      "application/vnd.jupyter.widget-view+json": {
       "model_id": "4fc2d28a403d4637b3f06e6d6f15e10a",
       "version_major": 2,
       "version_minor": 0
      },
      "text/plain": [
       "  0%|          | 0/773117 [00:00<?, ?it/s]"
      ]
     },
     "metadata": {},
     "output_type": "display_data"
    },
    {
     "data": {
      "application/vnd.jupyter.widget-view+json": {
       "model_id": "e4d48b3425584336af54bec38efe2f61",
       "version_major": 2,
       "version_minor": 0
      },
      "text/plain": [
       "  0%|          | 0/773117 [00:00<?, ?it/s]"
      ]
     },
     "metadata": {},
     "output_type": "display_data"
    },
    {
     "data": {
      "application/vnd.jupyter.widget-view+json": {
       "model_id": "ba289a05e3d743bbb3d0da8b48c657d3",
       "version_major": 2,
       "version_minor": 0
      },
      "text/plain": [
       "  0%|          | 0/773117 [00:00<?, ?it/s]"
      ]
     },
     "metadata": {},
     "output_type": "display_data"
    },
    {
     "data": {
      "application/vnd.jupyter.widget-view+json": {
       "model_id": "b1dfba9e23b14f1e95ae53b604255182",
       "version_major": 2,
       "version_minor": 0
      },
      "text/plain": [
       "  0%|          | 0/773117 [00:00<?, ?it/s]"
      ]
     },
     "metadata": {},
     "output_type": "display_data"
    },
    {
     "data": {
      "application/vnd.jupyter.widget-view+json": {
       "model_id": "4a1832f7cfd54c9d9f349bb485317194",
       "version_major": 2,
       "version_minor": 0
      },
      "text/plain": [
       "  0%|          | 0/773117 [00:00<?, ?it/s]"
      ]
     },
     "metadata": {},
     "output_type": "display_data"
    },
    {
     "data": {
      "application/vnd.jupyter.widget-view+json": {
       "model_id": "0a0af25d657a4e2e8a7460623bd512d8",
       "version_major": 2,
       "version_minor": 0
      },
      "text/plain": [
       "  0%|          | 0/773117 [00:00<?, ?it/s]"
      ]
     },
     "metadata": {},
     "output_type": "display_data"
    },
    {
     "data": {
      "application/vnd.jupyter.widget-view+json": {
       "model_id": "9e986c9ea84a4b218693d061f36b302c",
       "version_major": 2,
       "version_minor": 0
      },
      "text/plain": [
       "  0%|          | 0/773117 [00:00<?, ?it/s]"
      ]
     },
     "metadata": {},
     "output_type": "display_data"
    },
    {
     "data": {
      "application/vnd.jupyter.widget-view+json": {
       "model_id": "1cd31e8ae4054d27bd795a3e15df54cb",
       "version_major": 2,
       "version_minor": 0
      },
      "text/plain": [
       "  0%|          | 0/773117 [00:00<?, ?it/s]"
      ]
     },
     "metadata": {},
     "output_type": "display_data"
    }
   ],
   "source": [
    "for pcba_parquet in tqdm(pcba_parquets, total=len(pcba_parquets)):\n",
    "    pcba_df = pd.read_parquet(pcba_parquet)\n",
    "    for idx, row in pcba_df.iterrows():\n",
    "        if row['split'] == 'train':\n",
    "            for q in row['text']:\n",
    "                smiles.append(row['graph'])\n",
    "                query.append(q)\n",
    "                answer.append(row['label'])\n",
    "        elif row['split'] != 'train':\n",
    "            for q in row['text']:\n",
    "                smiles_val.append(row['graph'])\n",
    "                query_val.append(q)\n",
    "                answer_val.append(row['label'])"
   ]
  },
  {
   "cell_type": "code",
   "execution_count": 35,
   "metadata": {},
   "outputs": [],
   "source": [
    "chembl_drug_inst = load_dataset(\"alxfgh/ChEMBL_Drug_Instruction_Tuning\")"
   ]
  },
  {
   "cell_type": "code",
   "execution_count": 36,
   "metadata": {},
   "outputs": [
    {
     "data": {
      "application/vnd.jupyter.widget-view+json": {
       "model_id": "47e13449f8cd4e1f92dd8a26fe312059",
       "version_major": 2,
       "version_minor": 0
      },
      "text/plain": [
       "  0%|          | 0/129699 [00:00<?, ?it/s]"
      ]
     },
     "metadata": {},
     "output_type": "display_data"
    }
   ],
   "source": [
    "for data in tqdm(chembl_drug_inst['train']):\n",
    "    smiles.append(data['SMILES'])\n",
    "    query.append(data['Question'])\n",
    "    answer.append(data['Answer'])"
   ]
  },
  {
   "cell_type": "code",
   "execution_count": 37,
   "metadata": {},
   "outputs": [],
   "source": [
    "pubchem_drug_inst = load_dataset(\"alxfgh/PubChem_Desc_DrugChat\")"
   ]
  },
  {
   "cell_type": "code",
   "execution_count": 38,
   "metadata": {},
   "outputs": [
    {
     "data": {
      "application/vnd.jupyter.widget-view+json": {
       "model_id": "07dc18729df145cd9a8e648c3ba55fc8",
       "version_major": 2,
       "version_minor": 0
      },
      "text/plain": [
       "  0%|          | 0/13818 [00:00<?, ?it/s]"
      ]
     },
     "metadata": {},
     "output_type": "display_data"
    }
   ],
   "source": [
    "for data in tqdm(pubchem_drug_inst['train']):\n",
    "    smiles.append(data['SMILES'])\n",
    "    query.append(random.choice(['Describe the molecule.', 'Give me a description of the molecule.', 'What is the description of the molecule?', 'Explain the molecule', 'Information about the molecule']))\n",
    "    answer.append(data['Descriptor'])"
   ]
  },
  {
   "cell_type": "code",
   "execution_count": 39,
   "metadata": {},
   "outputs": [],
   "source": [
    "instruction_df = pd.DataFrame(columns=['smiles', 'query', 'answer'])\n",
    "instruction_df['smiles'] = smiles\n",
    "instruction_df['query'] = query\n",
    "instruction_df['answer'] = answer\n",
    "\n",
    "instruction_df.to_csv('./preproc/instruction.csv', index=False)"
   ]
  },
  {
   "cell_type": "code",
   "execution_count": 40,
   "metadata": {},
   "outputs": [],
   "source": [
    "instruction_val_df = pd.DataFrame(columns=['smiles', 'query', 'answer'])\n",
    "instruction_val_df['smiles'] = smiles_val\n",
    "instruction_val_df['query'] = query_val\n",
    "instruction_val_df['answer'] = answer_val\n",
    "\n",
    "instruction_val_df.to_csv('./preproc/instruction_val.csv', index=False)"
   ]
  },
  {
   "cell_type": "code",
   "execution_count": 41,
   "metadata": {},
   "outputs": [],
   "source": [
    "smiles=[]\n",
    "query=[]\n",
    "answer=[]\n",
    "\n",
    "smiles_val=[]\n",
    "query_val=[]\n",
    "answer_val=[]"
   ]
  },
  {
   "cell_type": "code",
   "execution_count": 42,
   "metadata": {},
   "outputs": [],
   "source": [
    "zinc_cannon = load_dataset(\"sagawa/ZINC-canonicalized\")"
   ]
  },
  {
   "cell_type": "code",
   "execution_count": 43,
   "metadata": {},
   "outputs": [
    {
     "data": {
      "application/vnd.jupyter.widget-view+json": {
       "model_id": "419e03ef66d846f6b8c214134fefba83",
       "version_major": 2,
       "version_minor": 0
      },
      "text/plain": [
       "  0%|          | 0/20693269 [00:00<?, ?it/s]"
      ]
     },
     "metadata": {},
     "output_type": "display_data"
    },
    {
     "data": {
      "application/vnd.jupyter.widget-view+json": {
       "model_id": "4f8e6e9bed6c43f7b93166d8ce5a2e73",
       "version_major": 2,
       "version_minor": 0
      },
      "text/plain": [
       "  0%|          | 0/2299253 [00:00<?, ?it/s]"
      ]
     },
     "metadata": {},
     "output_type": "display_data"
    }
   ],
   "source": [
    "for data in tqdm(zinc_cannon['train']):\n",
    "    smiles.append(data['smiles'])\n",
    "    query.append(random.choice(['What is the SMILES of this molecule?', 'What is the SMILES string of this molecule?', 'What is the SMILES string of this compound?', 'What is the SMILES of this compound?', 'Give me the SMILES of this molecule.', 'Give me the SMILES of this compound.', 'Give me the SMILES string of this molecule.', 'Give me the SMILES string of this compound.']))\n",
    "    answer.append(data['smiles'])\n",
    "for data in tqdm(zinc_cannon['validation']):\n",
    "    smiles_val.append(data['smiles'])\n",
    "    query_val.append(random.choice(['What is the SMILES of this molecule?', 'What is the SMILES string of this molecule?', 'What is the SMILES string of this compound?', 'What is the SMILES of this compound?', 'Give me the SMILES of this molecule.', 'Give me the SMILES of this compound.', 'Give me the SMILES string of this molecule.', 'Give me the SMILES string of this compound.']))\n",
    "    answer_val.append(data['smiles'])"
   ]
  },
  {
   "cell_type": "code",
   "execution_count": null,
   "metadata": {},
   "outputs": [],
   "source": [
    "pretrain_df = pd.DataFrame(columns=['smiles', 'query', 'answer'])\n",
    "pretrain_df['smiles'] = smiles\n",
    "pretrain_df['query'] = query\n",
    "pretrain_df['answer'] = answer\n",
    "\n",
    "pretrain_df.sample(100).to_csv('./preproc/pretrain_sample.csv', index=False)\n",
    "pretrain_df.to_csv('./preproc/pretrain.csv', index=False)"
   ]
  },
  {
   "cell_type": "code",
   "execution_count": null,
   "metadata": {},
   "outputs": [],
   "source": [
    "pretrain_val_df = pd.DataFrame(columns=['smiles', 'query', 'answer'])\n",
    "pretrain_val_df['smiles'] = smiles_val\n",
    "pretrain_val_df['query'] = query_val\n",
    "pretrain_val_df['answer'] = answer_val\n",
    "\n",
    "pretrain_val_df.sample(100).to_csv('./preproc/pretrain_val_sample.csv', index=False)\n",
    "pretrain_val_df.to_csv('./preproc/pretrain_val.csv', index=False)"
   ]
  },
  {
   "cell_type": "code",
   "execution_count": null,
   "metadata": {},
   "outputs": [],
   "source": []
  }
 ],
 "metadata": {
  "kernelspec": {
   "display_name": "py310_torch2",
   "language": "python",
   "name": "python3"
  },
  "language_info": {
   "codemirror_mode": {
    "name": "ipython",
    "version": 3
   },
   "file_extension": ".py",
   "mimetype": "text/x-python",
   "name": "python",
   "nbconvert_exporter": "python",
   "pygments_lexer": "ipython3",
   "version": "3.10.9"
  },
  "orig_nbformat": 4
 },
 "nbformat": 4,
 "nbformat_minor": 2
}
