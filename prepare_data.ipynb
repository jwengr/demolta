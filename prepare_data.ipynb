{
 "cells": [
  {
   "cell_type": "code",
   "execution_count": 1,
   "metadata": {},
   "outputs": [],
   "source": [
    "from torch.utils.data import DataLoader\n",
    "from transformers import AutoTokenizer, LlamaTokenizer\n",
    "\n",
    "from model.modeling_demolta import DeMOLTaFeaturizer, DeMOLTaCollateFn, DeMOLTaConfig, MOLLA, MOLLACollateFn\n"
   ]
  },
  {
   "cell_type": "code",
   "execution_count": 55,
   "metadata": {},
   "outputs": [],
   "source": [
    "demolta_config = DeMOLTaConfig(\n",
    "    num_layers=12,\n",
    "    hidden_dim=384,\n",
    "    ff_dim=1536,\n",
    "    num_heads=6,\n",
    "    layer_dropout=0.15\n",
    ")"
   ]
  },
  {
   "cell_type": "code",
   "execution_count": 56,
   "metadata": {},
   "outputs": [],
   "source": [
    "text_model_name = 'facebook/galactica-125m'"
   ]
  },
  {
   "cell_type": "code",
   "execution_count": 57,
   "metadata": {},
   "outputs": [],
   "source": [
    "tokenizer = AutoTokenizer.from_pretrained(text_model_name)"
   ]
  },
  {
   "cell_type": "code",
   "execution_count": 58,
   "metadata": {},
   "outputs": [
    {
     "name": "stderr",
     "output_type": "stream",
     "text": [
      "Using pad_token, but it is not set yet.\n",
      "Using eos_token, but it is not set yet.\n"
     ]
    }
   ],
   "source": [
    "if not tokenizer.pad_token:\n",
    "    if tokenizer.eos_token:\n",
    "        tokenizer.pad_token = tokenizer.eos_token\n",
    "    else:\n",
    "        tokenizer.pad_token_id=2"
   ]
  },
  {
   "cell_type": "code",
   "execution_count": 59,
   "metadata": {},
   "outputs": [],
   "source": [
    "smiles = ['CCO', 'CC1=CC=CC=C1']\n",
    "queries = ['describe the molecule', 'describe the molecule']\n",
    "answers = ['ethanol', 'benzene']"
   ]
  },
  {
   "cell_type": "code",
   "execution_count": 60,
   "metadata": {},
   "outputs": [],
   "source": [
    "featurizer = DeMOLTaFeaturizer()\n",
    "mol_feats = []\n",
    "dataset = []\n",
    "for smi, query, answer in zip(smiles, queries, answers):\n",
    "    dataset.append({\n",
    "        'mol_feats': featurizer(smiles=smi),\n",
    "        'query': query,\n",
    "        'answer': answer\n",
    "    })\n",
    "    "
   ]
  },
  {
   "cell_type": "code",
   "execution_count": 61,
   "metadata": {},
   "outputs": [],
   "source": [
    "dl = DataLoader(dataset, batch_size=2, collate_fn=MOLLACollateFn(tokenizer))"
   ]
  },
  {
   "cell_type": "code",
   "execution_count": 62,
   "metadata": {},
   "outputs": [
    {
     "name": "stderr",
     "output_type": "stream",
     "text": [
      "Asking to truncate to max_length but no maximum length is provided and the model has no predefined maximum length. Default to no truncation.\n"
     ]
    }
   ],
   "source": [
    "for batch in dl:\n",
    "    break"
   ]
  },
  {
   "cell_type": "code",
   "execution_count": 63,
   "metadata": {},
   "outputs": [],
   "source": [
    "mola = MOLLA(demolta_config, text_model_name)"
   ]
  },
  {
   "cell_type": "code",
   "execution_count": 64,
   "metadata": {},
   "outputs": [],
   "source": [
    "outputs = mola(\n",
    "    input_ids=batch['input_ids'],\n",
    "    input_attention_mask=batch['attention_mask'],\n",
    "    atom_feats=batch['mols']['atom_feats'],\n",
    "    bond_feats=batch['mols']['bond_feats'],\n",
    "    attention_matrix_mask=batch['mols']['attention_mask'],\n",
    "    labels=batch['labels']\n",
    ")"
   ]
  },
  {
   "cell_type": "code",
   "execution_count": 68,
   "metadata": {},
   "outputs": [
    {
     "data": {
      "text/plain": [
       "'a) name)Titleamine'"
      ]
     },
     "execution_count": 68,
     "metadata": {},
     "output_type": "execute_result"
    }
   ],
   "source": [
    "tokenizer.decode(outputs[1].argmax(2)[0])"
   ]
  },
  {
   "cell_type": "code",
   "execution_count": null,
   "metadata": {},
   "outputs": [],
   "source": []
  },
  {
   "cell_type": "code",
   "execution_count": 129,
   "metadata": {},
   "outputs": [],
   "source": [
    "import os\n",
    "import pandas as pd\n",
    "import selfies as sf\n",
    "\n",
    "from glob import glob\n",
    "from tqdm.auto import tqdm\n",
    "from datasets import load_dataset"
   ]
  },
  {
   "cell_type": "code",
   "execution_count": 130,
   "metadata": {},
   "outputs": [
    {
     "data": {
      "application/vnd.jupyter.widget-view+json": {
       "model_id": "815f4a48298240fd935471838797d756",
       "version_major": 2,
       "version_minor": 0
      },
      "text/plain": [
       "Downloading builder script:   0%|          | 0.00/7.32k [00:00<?, ?B/s]"
      ]
     },
     "metadata": {},
     "output_type": "display_data"
    },
    {
     "data": {
      "application/vnd.jupyter.widget-view+json": {
       "model_id": "ddc97beafe114e2eb86f7233573ce65c",
       "version_major": 2,
       "version_minor": 0
      },
      "text/plain": [
       "Downloading readme:   0%|          | 0.00/19.3k [00:00<?, ?B/s]"
      ]
     },
     "metadata": {},
     "output_type": "display_data"
    },
    {
     "data": {
      "application/vnd.jupyter.widget-view+json": {
       "model_id": "ef35f153b37446d29cc53a1565203d8d",
       "version_major": 2,
       "version_minor": 0
      },
      "text/plain": [
       "Downloading data:   0%|          | 0.00/55.1M [00:00<?, ?B/s]"
      ]
     },
     "metadata": {},
     "output_type": "display_data"
    },
    {
     "data": {
      "application/vnd.jupyter.widget-view+json": {
       "model_id": "38f6e71cd6c441ee97be237cd04e96ee",
       "version_major": 2,
       "version_minor": 0
      },
      "text/plain": [
       "Generating description_guided_molecule_design split: 0 examples [00:00, ? examples/s]"
      ]
     },
     "metadata": {},
     "output_type": "display_data"
    },
    {
     "data": {
      "application/vnd.jupyter.widget-view+json": {
       "model_id": "df34fa6f8e0b44679e0db3b4c881d82c",
       "version_major": 2,
       "version_minor": 0
      },
      "text/plain": [
       "Generating forward_reaction_prediction split: 0 examples [00:00, ? examples/s]"
      ]
     },
     "metadata": {},
     "output_type": "display_data"
    },
    {
     "data": {
      "application/vnd.jupyter.widget-view+json": {
       "model_id": "cb3e320c59154408837e213317cf6fd2",
       "version_major": 2,
       "version_minor": 0
      },
      "text/plain": [
       "Generating molecular_description_generation split: 0 examples [00:00, ? examples/s]"
      ]
     },
     "metadata": {},
     "output_type": "display_data"
    }
   ],
   "source": [
    "mol_inst = load_dataset(\"zjunlp/Mol-Instructions\", 'Molecule-oriented Instructions')"
   ]
  },
  {
   "cell_type": "code",
   "execution_count": null,
   "metadata": {},
   "outputs": [
    {
     "data": {
      "text/plain": [
       "dict_keys(['description_guided_molecule_design', 'forward_reaction_prediction', 'molecular_description_generation', 'property_prediction', 'reagent_prediction', 'retrosynthesis'])"
      ]
     },
     "execution_count": 73,
     "metadata": {},
     "output_type": "execute_result"
    }
   ],
   "source": [
    "mol_inst.keys()"
   ]
  },
  {
   "cell_type": "code",
   "execution_count": null,
   "metadata": {},
   "outputs": [],
   "source": [
    "pretrain_df = pd.DataFrame(columns=['smiles', 'query', 'answer'])\n",
    "smiles = []\n",
    "query = []\n",
    "answer = []"
   ]
  },
  {
   "cell_type": "code",
   "execution_count": null,
   "metadata": {},
   "outputs": [],
   "source": [
    "for data in tqdm(mol_inst['molecular_description_generation']):\n",
    "    smiles.append(sf.decoder(data['input']))\n",
    "    query.append(data['instruction'])\n",
    "    answer.append(data['output'])"
   ]
  },
  {
   "cell_type": "code",
   "execution_count": null,
   "metadata": {},
   "outputs": [
    {
     "data": {
      "application/vnd.jupyter.widget-view+json": {
       "model_id": "8a9be25391a5478fb8b0e37f97f7679b",
       "version_major": 2,
       "version_minor": 0
      },
      "text/plain": [
       "  0%|          | 0/401229 [00:00<?, ?it/s]"
      ]
     },
     "metadata": {},
     "output_type": "display_data"
    }
   ],
   "source": [
    "for data in tqdm(mol_inst['property_prediction']):\n",
    "    smiles.append(sf.decoder(data['input']))\n",
    "    query.append(data['instruction'])\n",
    "    answer.append(data['output'])"
   ]
  },
  {
   "cell_type": "code",
   "execution_count": null,
   "metadata": {},
   "outputs": [
    {
     "data": {
      "application/vnd.jupyter.widget-view+json": {
       "model_id": "6f5a39d4b0164493b189c62104e67404",
       "version_major": 2,
       "version_minor": 0
      },
      "text/plain": [
       "  0%|          | 0/143535 [00:00<?, ?it/s]"
      ]
     },
     "metadata": {},
     "output_type": "display_data"
    }
   ],
   "source": [
    "for data in tqdm(mol_inst['retrosynthesis']):\n",
    "    smiles.append(sf.decoder(data['input']))\n",
    "    query.append(data['instruction'])\n",
    "    output_sfs = data['output'].split('.')\n",
    "    answer.append('.'.join(list(map(sf.decoder, output_sfs))))"
   ]
  },
  {
   "cell_type": "code",
   "execution_count": null,
   "metadata": {},
   "outputs": [
    {
     "data": {
      "application/vnd.jupyter.widget-view+json": {
       "model_id": "3cf5b7a08aa5487b9b854ea0233c700e",
       "version_major": 2,
       "version_minor": 0
      },
      "text/plain": [
       "Fetching 86 files:   0%|          | 0/86 [00:00<?, ?it/s]"
      ]
     },
     "metadata": {},
     "output_type": "display_data"
    },
    {
     "data": {
      "application/vnd.jupyter.widget-view+json": {
       "model_id": "332b81cd41c24802bb94d6c519e83796",
       "version_major": 2,
       "version_minor": 0
      },
      "text/plain": [
       "Downloading (…)25b9608a26fe.parquet:   0%|          | 0.00/4.30M [00:00<?, ?B/s]"
      ]
     },
     "metadata": {},
     "output_type": "display_data"
    },
    {
     "data": {
      "application/vnd.jupyter.widget-view+json": {
       "model_id": "4ade6e2d40554a4b9b84cdde5bda1ae6",
       "version_major": 2,
       "version_minor": 0
      },
      "text/plain": [
       "Downloading (…)e98748a9e08c.parquet:   0%|          | 0.00/26.8M [00:00<?, ?B/s]"
      ]
     },
     "metadata": {},
     "output_type": "display_data"
    },
    {
     "data": {
      "application/vnd.jupyter.widget-view+json": {
       "model_id": "4153c94d001a43d1b20ed89146dc6c42",
       "version_major": 2,
       "version_minor": 0
      },
      "text/plain": [
       "Downloading (…)5153a36b8742.parquet:   0%|          | 0.00/26.8M [00:00<?, ?B/s]"
      ]
     },
     "metadata": {},
     "output_type": "display_data"
    },
    {
     "data": {
      "application/vnd.jupyter.widget-view+json": {
       "model_id": "657099b5c8b64fd6bc604e9b6da9cae9",
       "version_major": 2,
       "version_minor": 0
      },
      "text/plain": [
       "Downloading (…)12965f685bf8.parquet:   0%|          | 0.00/27.0M [00:00<?, ?B/s]"
      ]
     },
     "metadata": {},
     "output_type": "display_data"
    },
    {
     "data": {
      "application/vnd.jupyter.widget-view+json": {
       "model_id": "23cb66c0a53e48a3be832a4fa5731b08",
       "version_major": 2,
       "version_minor": 0
      },
      "text/plain": [
       "Downloading (…)4e02cc715d5e.parquet:   0%|          | 0.00/27.0M [00:00<?, ?B/s]"
      ]
     },
     "metadata": {},
     "output_type": "display_data"
    },
    {
     "data": {
      "application/vnd.jupyter.widget-view+json": {
       "model_id": "e22058a2acba41fdb7cf545f0e30cd04",
       "version_major": 2,
       "version_minor": 0
      },
      "text/plain": [
       "Downloading (…)11b2bb06c049.parquet:   0%|          | 0.00/27.8M [00:00<?, ?B/s]"
      ]
     },
     "metadata": {},
     "output_type": "display_data"
    },
    {
     "data": {
      "application/vnd.jupyter.widget-view+json": {
       "model_id": "f2ff890696e84e13badf920fb3a680c4",
       "version_major": 2,
       "version_minor": 0
      },
      "text/plain": [
       "Downloading (…)3351f8a60b78.parquet:   0%|          | 0.00/27.5M [00:00<?, ?B/s]"
      ]
     },
     "metadata": {},
     "output_type": "display_data"
    },
    {
     "data": {
      "application/vnd.jupyter.widget-view+json": {
       "model_id": "91971d97d1a64d45bce6043289568ded",
       "version_major": 2,
       "version_minor": 0
      },
      "text/plain": [
       "Downloading (…)28deba87c4ba.parquet:   0%|          | 0.00/26.3M [00:00<?, ?B/s]"
      ]
     },
     "metadata": {},
     "output_type": "display_data"
    },
    {
     "data": {
      "application/vnd.jupyter.widget-view+json": {
       "model_id": "9d08e27c6feb4a4eb1c2a036386590f8",
       "version_major": 2,
       "version_minor": 0
      },
      "text/plain": [
       "Downloading (…)3700c9b98345.parquet:   0%|          | 0.00/26.6M [00:00<?, ?B/s]"
      ]
     },
     "metadata": {},
     "output_type": "display_data"
    },
    {
     "data": {
      "application/vnd.jupyter.widget-view+json": {
       "model_id": "8896479493094ffdb4c40a5e1a9a04bc",
       "version_major": 2,
       "version_minor": 0
      },
      "text/plain": [
       "Downloading (…)a69868f95a9b.parquet:   0%|          | 0.00/28.1M [00:00<?, ?B/s]"
      ]
     },
     "metadata": {},
     "output_type": "display_data"
    },
    {
     "data": {
      "application/vnd.jupyter.widget-view+json": {
       "model_id": "189d3d0b10ca4b91b9a3224f25871843",
       "version_major": 2,
       "version_minor": 0
      },
      "text/plain": [
       "Downloading (…)88d7611fe2eb.parquet:   0%|          | 0.00/28.0M [00:00<?, ?B/s]"
      ]
     },
     "metadata": {},
     "output_type": "display_data"
    },
    {
     "data": {
      "application/vnd.jupyter.widget-view+json": {
       "model_id": "8492f0ce94324ae38f8eb52151a41e04",
       "version_major": 2,
       "version_minor": 0
      },
      "text/plain": [
       "Downloading (…)2784da21488e.parquet:   0%|          | 0.00/26.4M [00:00<?, ?B/s]"
      ]
     },
     "metadata": {},
     "output_type": "display_data"
    },
    {
     "data": {
      "application/vnd.jupyter.widget-view+json": {
       "model_id": "762492cc08ba444f925b6daec7f874a5",
       "version_major": 2,
       "version_minor": 0
      },
      "text/plain": [
       "Downloading (…)1becf693b5d3.parquet:   0%|          | 0.00/26.3M [00:00<?, ?B/s]"
      ]
     },
     "metadata": {},
     "output_type": "display_data"
    },
    {
     "data": {
      "application/vnd.jupyter.widget-view+json": {
       "model_id": "23e4e34bc5384772818e48bf043db41a",
       "version_major": 2,
       "version_minor": 0
      },
      "text/plain": [
       "Downloading (…)1632de3c820b.parquet:   0%|          | 0.00/26.7M [00:00<?, ?B/s]"
      ]
     },
     "metadata": {},
     "output_type": "display_data"
    },
    {
     "data": {
      "application/vnd.jupyter.widget-view+json": {
       "model_id": "2a459b3d85de42b0bc4a8c6fb1aaf442",
       "version_major": 2,
       "version_minor": 0
      },
      "text/plain": [
       "Downloading (…)b9ccbcbe2515.parquet:   0%|          | 0.00/26.3M [00:00<?, ?B/s]"
      ]
     },
     "metadata": {},
     "output_type": "display_data"
    },
    {
     "data": {
      "application/vnd.jupyter.widget-view+json": {
       "model_id": "bde61ff0e8734856a5a4d3deff5fd35f",
       "version_major": 2,
       "version_minor": 0
      },
      "text/plain": [
       "Downloading (…)508e383a0340.parquet:   0%|          | 0.00/27.4M [00:00<?, ?B/s]"
      ]
     },
     "metadata": {},
     "output_type": "display_data"
    },
    {
     "data": {
      "application/vnd.jupyter.widget-view+json": {
       "model_id": "fce1ee231c2f42b395bde87eda6cb3a7",
       "version_major": 2,
       "version_minor": 0
      },
      "text/plain": [
       "Downloading (…)6d8b5f034e53.parquet:   0%|          | 0.00/27.5M [00:00<?, ?B/s]"
      ]
     },
     "metadata": {},
     "output_type": "display_data"
    },
    {
     "data": {
      "application/vnd.jupyter.widget-view+json": {
       "model_id": "ef8bd48d7c6c4467bd048ccf10c53c20",
       "version_major": 2,
       "version_minor": 0
      },
      "text/plain": [
       "Downloading (…)d5d7b17ca368.parquet:   0%|          | 0.00/27.4M [00:00<?, ?B/s]"
      ]
     },
     "metadata": {},
     "output_type": "display_data"
    },
    {
     "data": {
      "application/vnd.jupyter.widget-view+json": {
       "model_id": "c061e42485014d069365bbb62aa249b3",
       "version_major": 2,
       "version_minor": 0
      },
      "text/plain": [
       "Downloading (…)7ecc771c0271.parquet:   0%|          | 0.00/27.0M [00:00<?, ?B/s]"
      ]
     },
     "metadata": {},
     "output_type": "display_data"
    },
    {
     "data": {
      "application/vnd.jupyter.widget-view+json": {
       "model_id": "f917adbb6ddf4f9cab1131dcc7a3c7fb",
       "version_major": 2,
       "version_minor": 0
      },
      "text/plain": [
       "Downloading (…)5fb809c5bded.parquet:   0%|          | 0.00/28.1M [00:00<?, ?B/s]"
      ]
     },
     "metadata": {},
     "output_type": "display_data"
    },
    {
     "data": {
      "application/vnd.jupyter.widget-view+json": {
       "model_id": "98bb3935779e4964ab8d083e27ded75d",
       "version_major": 2,
       "version_minor": 0
      },
      "text/plain": [
       "Downloading (…)ba2407d9f51b.parquet:   0%|          | 0.00/27.4M [00:00<?, ?B/s]"
      ]
     },
     "metadata": {},
     "output_type": "display_data"
    },
    {
     "data": {
      "application/vnd.jupyter.widget-view+json": {
       "model_id": "ebe1bfc677ae442e849858fef44e042e",
       "version_major": 2,
       "version_minor": 0
      },
      "text/plain": [
       "Downloading (…)d849833388e1.parquet:   0%|          | 0.00/27.3M [00:00<?, ?B/s]"
      ]
     },
     "metadata": {},
     "output_type": "display_data"
    },
    {
     "data": {
      "application/vnd.jupyter.widget-view+json": {
       "model_id": "bfef6580a1d44137893f9c4600c1c6f9",
       "version_major": 2,
       "version_minor": 0
      },
      "text/plain": [
       "Downloading (…)c0db615c9374.parquet:   0%|          | 0.00/26.9M [00:00<?, ?B/s]"
      ]
     },
     "metadata": {},
     "output_type": "display_data"
    },
    {
     "data": {
      "application/vnd.jupyter.widget-view+json": {
       "model_id": "21190b3223704bfab49f6588f2de9aad",
       "version_major": 2,
       "version_minor": 0
      },
      "text/plain": [
       "Downloading (…)eb7b755383db.parquet:   0%|          | 0.00/26.5M [00:00<?, ?B/s]"
      ]
     },
     "metadata": {},
     "output_type": "display_data"
    },
    {
     "data": {
      "application/vnd.jupyter.widget-view+json": {
       "model_id": "7905814bd44d443da2b066fa27307b6e",
       "version_major": 2,
       "version_minor": 0
      },
      "text/plain": [
       "Downloading (…)d2038f937f55.parquet:   0%|          | 0.00/27.1M [00:00<?, ?B/s]"
      ]
     },
     "metadata": {},
     "output_type": "display_data"
    },
    {
     "data": {
      "application/vnd.jupyter.widget-view+json": {
       "model_id": "db977e78bd0d405cb45b700f3018b79a",
       "version_major": 2,
       "version_minor": 0
      },
      "text/plain": [
       "Downloading (…)dd0631ba428c.parquet:   0%|          | 0.00/2.37M [00:00<?, ?B/s]"
      ]
     },
     "metadata": {},
     "output_type": "display_data"
    },
    {
     "data": {
      "application/vnd.jupyter.widget-view+json": {
       "model_id": "96057846e62b4b76b789a68a932f7b17",
       "version_major": 2,
       "version_minor": 0
      },
      "text/plain": [
       "Downloading (…)80b7dc9002d0.parquet:   0%|          | 0.00/11.8M [00:00<?, ?B/s]"
      ]
     },
     "metadata": {},
     "output_type": "display_data"
    },
    {
     "data": {
      "application/vnd.jupyter.widget-view+json": {
       "model_id": "7a23704761a14ef89a83c3bd8c7fe355",
       "version_major": 2,
       "version_minor": 0
      },
      "text/plain": [
       "Downloading (…)45b6733cfa31.parquet:   0%|          | 0.00/12.1M [00:00<?, ?B/s]"
      ]
     },
     "metadata": {},
     "output_type": "display_data"
    },
    {
     "data": {
      "application/vnd.jupyter.widget-view+json": {
       "model_id": "8fb981e48b344dffa45007dfd1b76e9b",
       "version_major": 2,
       "version_minor": 0
      },
      "text/plain": [
       "Downloading (…)cb7e7ea12d7b.parquet:   0%|          | 0.00/13.1M [00:00<?, ?B/s]"
      ]
     },
     "metadata": {},
     "output_type": "display_data"
    },
    {
     "data": {
      "application/vnd.jupyter.widget-view+json": {
       "model_id": "3810bc28ccdb4a5283b008266ea41d2c",
       "version_major": 2,
       "version_minor": 0
      },
      "text/plain": [
       "Downloading (…)8c034c039f6c.parquet:   0%|          | 0.00/12.9M [00:00<?, ?B/s]"
      ]
     },
     "metadata": {},
     "output_type": "display_data"
    },
    {
     "data": {
      "text/plain": [
       "'C:\\\\Users\\\\dust\\\\.cache\\\\huggingface\\\\hub\\\\datasets--haitengzhao--molecule_property_instruction\\\\snapshots\\\\aad5c7578e811e1614be9430095de0c431485cf3'"
      ]
     },
     "execution_count": 107,
     "metadata": {},
     "output_type": "execute_result"
    }
   ],
   "source": [
    "# from huggingface_hub import snapshot_download\n",
    "# snapshot_download(repo_id=\"haitengzhao/molecule_property_instruction\", repo_type=\"dataset\")"
   ]
  },
  {
   "cell_type": "code",
   "execution_count": 111,
   "metadata": {},
   "outputs": [],
   "source": []
  },
  {
   "cell_type": "code",
   "execution_count": 118,
   "metadata": {},
   "outputs": [],
   "source": [
    "bace_parquet = glob('C:\\\\Users\\\\dust\\\\.cache\\\\huggingface\\\\hub\\\\datasets--haitengzhao--molecule_property_instruction\\\\snapshots\\\\aad5c7578e811e1614be9430095de0c431485cf3\\\\data\\\\bace*')[0]"
   ]
  },
  {
   "cell_type": "code",
   "execution_count": 121,
   "metadata": {},
   "outputs": [],
   "source": [
    "bace_df = pd.read_parquet(bace_parquet)"
   ]
  },
  {
   "cell_type": "code",
   "execution_count": 125,
   "metadata": {},
   "outputs": [
    {
     "data": {
      "application/vnd.jupyter.widget-view+json": {
       "model_id": "ec892d7d65c14d9eace11cdbd3e05871",
       "version_major": 2,
       "version_minor": 0
      },
      "text/plain": [
       "  0%|          | 0/1513 [00:00<?, ?it/s]"
      ]
     },
     "metadata": {},
     "output_type": "display_data"
    }
   ],
   "source": [
    "for idx, row in tqdm(bace_df.iterrows(), total=len(bace_df)):\n",
    "    if row['split'] != 'train':\n",
    "        continue\n",
    "    for q in row['text']:\n",
    "        smiles.append(row['graph'])\n",
    "        query.append(q)\n",
    "        answer.append(row['label'])"
   ]
  },
  {
   "cell_type": "code",
   "execution_count": 126,
   "metadata": {},
   "outputs": [],
   "source": [
    "bbbp_parquet = glob('C:\\\\Users\\\\dust\\\\.cache\\\\huggingface\\\\hub\\\\datasets--haitengzhao--molecule_property_instruction\\\\snapshots\\\\aad5c7578e811e1614be9430095de0c431485cf3\\\\data\\\\bbbp*')[0]"
   ]
  },
  {
   "cell_type": "code",
   "execution_count": 127,
   "metadata": {},
   "outputs": [],
   "source": [
    "bbbp_df = pd.read_parquet(bbbp_parquet)"
   ]
  },
  {
   "cell_type": "code",
   "execution_count": 128,
   "metadata": {},
   "outputs": [
    {
     "data": {
      "text/html": [
       "<div>\n",
       "<style scoped>\n",
       "    .dataframe tbody tr th:only-of-type {\n",
       "        vertical-align: middle;\n",
       "    }\n",
       "\n",
       "    .dataframe tbody tr th {\n",
       "        vertical-align: top;\n",
       "    }\n",
       "\n",
       "    .dataframe thead th {\n",
       "        text-align: right;\n",
       "    }\n",
       "</style>\n",
       "<table border=\"1\" class=\"dataframe\">\n",
       "  <thead>\n",
       "    <tr style=\"text-align: right;\">\n",
       "      <th></th>\n",
       "      <th>graph</th>\n",
       "      <th>text</th>\n",
       "      <th>label</th>\n",
       "      <th>dataset_name</th>\n",
       "      <th>task_index</th>\n",
       "      <th>molecule_index</th>\n",
       "      <th>split</th>\n",
       "    </tr>\n",
       "  </thead>\n",
       "  <tbody>\n",
       "    <tr>\n",
       "      <th>0</th>\n",
       "      <td>[Cl].CC(C)NCC(O)COc1cccc2ccccc12</td>\n",
       "      <td>[In general, molecules that passively diffuse ...</td>\n",
       "      <td>Yes</td>\n",
       "      <td>bbbp</td>\n",
       "      <td>0</td>\n",
       "      <td>0</td>\n",
       "      <td>train</td>\n",
       "    </tr>\n",
       "    <tr>\n",
       "      <th>1</th>\n",
       "      <td>C(=O)(OC(C)(C)C)CCCc1ccc(cc1)N(CCCl)CCCl</td>\n",
       "      <td>[In general, molecules that passively diffuse ...</td>\n",
       "      <td>Yes</td>\n",
       "      <td>bbbp</td>\n",
       "      <td>0</td>\n",
       "      <td>1</td>\n",
       "      <td>train</td>\n",
       "    </tr>\n",
       "    <tr>\n",
       "      <th>2</th>\n",
       "      <td>c12c3c(N4CCN(C)CC4)c(F)cc1c(c(C(O)=O)cn2C(C)CO...</td>\n",
       "      <td>[In general, molecules that passively diffuse ...</td>\n",
       "      <td>Yes</td>\n",
       "      <td>bbbp</td>\n",
       "      <td>0</td>\n",
       "      <td>2</td>\n",
       "      <td>train</td>\n",
       "    </tr>\n",
       "    <tr>\n",
       "      <th>3</th>\n",
       "      <td>C1CCN(CC1)Cc1cccc(c1)OCCCNC(=O)C</td>\n",
       "      <td>[In general, molecules that passively diffuse ...</td>\n",
       "      <td>Yes</td>\n",
       "      <td>bbbp</td>\n",
       "      <td>0</td>\n",
       "      <td>3</td>\n",
       "      <td>train</td>\n",
       "    </tr>\n",
       "    <tr>\n",
       "      <th>4</th>\n",
       "      <td>Cc1onc(c2ccccc2Cl)c1C(=O)N[C@H]3[C@H]4SC(C)(C)...</td>\n",
       "      <td>[In general, molecules that passively diffuse ...</td>\n",
       "      <td>Yes</td>\n",
       "      <td>bbbp</td>\n",
       "      <td>0</td>\n",
       "      <td>4</td>\n",
       "      <td>train</td>\n",
       "    </tr>\n",
       "    <tr>\n",
       "      <th>...</th>\n",
       "      <td>...</td>\n",
       "      <td>...</td>\n",
       "      <td>...</td>\n",
       "      <td>...</td>\n",
       "      <td>...</td>\n",
       "      <td>...</td>\n",
       "      <td>...</td>\n",
       "    </tr>\n",
       "    <tr>\n",
       "      <th>2034</th>\n",
       "      <td>C1=C(Cl)C(=C(C2=C1NC(=O)C(N2)=O)[N+](=O)[O-])Cl</td>\n",
       "      <td>[In general, molecules that passively diffuse ...</td>\n",
       "      <td>Yes</td>\n",
       "      <td>bbbp</td>\n",
       "      <td>0</td>\n",
       "      <td>2034</td>\n",
       "      <td>train</td>\n",
       "    </tr>\n",
       "    <tr>\n",
       "      <th>2035</th>\n",
       "      <td>[C@H]3([N]2C1=C(C(=NC=N1)N)N=C2)[C@@H]([C@@H](...</td>\n",
       "      <td>[In general, molecules that passively diffuse ...</td>\n",
       "      <td>Yes</td>\n",
       "      <td>bbbp</td>\n",
       "      <td>0</td>\n",
       "      <td>2035</td>\n",
       "      <td>train</td>\n",
       "    </tr>\n",
       "    <tr>\n",
       "      <th>2036</th>\n",
       "      <td>[O+]1=N[N](C=C1[N-]C(NC2=CC=CC=C2)=O)C(CC3=CC=...</td>\n",
       "      <td>[In general, molecules that passively diffuse ...</td>\n",
       "      <td>Yes</td>\n",
       "      <td>bbbp</td>\n",
       "      <td>0</td>\n",
       "      <td>2036</td>\n",
       "      <td>train</td>\n",
       "    </tr>\n",
       "    <tr>\n",
       "      <th>2037</th>\n",
       "      <td>C1=C(OC)C(=CC2=C1C(=[N+](C(=C2CC)C)[NH-])C3=CC...</td>\n",
       "      <td>[In general, molecules that passively diffuse ...</td>\n",
       "      <td>Yes</td>\n",
       "      <td>bbbp</td>\n",
       "      <td>0</td>\n",
       "      <td>2037</td>\n",
       "      <td>train</td>\n",
       "    </tr>\n",
       "    <tr>\n",
       "      <th>2038</th>\n",
       "      <td>[N+](=NCC(=O)N[C@@H]([C@H](O)C1=CC=C([N+]([O-]...</td>\n",
       "      <td>[In general, molecules that passively diffuse ...</td>\n",
       "      <td>Yes</td>\n",
       "      <td>bbbp</td>\n",
       "      <td>0</td>\n",
       "      <td>2038</td>\n",
       "      <td>train</td>\n",
       "    </tr>\n",
       "  </tbody>\n",
       "</table>\n",
       "<p>2039 rows × 7 columns</p>\n",
       "</div>"
      ],
      "text/plain": [
       "                                                  graph  \\\n",
       "0                      [Cl].CC(C)NCC(O)COc1cccc2ccccc12   \n",
       "1              C(=O)(OC(C)(C)C)CCCc1ccc(cc1)N(CCCl)CCCl   \n",
       "2     c12c3c(N4CCN(C)CC4)c(F)cc1c(c(C(O)=O)cn2C(C)CO...   \n",
       "3                      C1CCN(CC1)Cc1cccc(c1)OCCCNC(=O)C   \n",
       "4     Cc1onc(c2ccccc2Cl)c1C(=O)N[C@H]3[C@H]4SC(C)(C)...   \n",
       "...                                                 ...   \n",
       "2034    C1=C(Cl)C(=C(C2=C1NC(=O)C(N2)=O)[N+](=O)[O-])Cl   \n",
       "2035  [C@H]3([N]2C1=C(C(=NC=N1)N)N=C2)[C@@H]([C@@H](...   \n",
       "2036  [O+]1=N[N](C=C1[N-]C(NC2=CC=CC=C2)=O)C(CC3=CC=...   \n",
       "2037  C1=C(OC)C(=CC2=C1C(=[N+](C(=C2CC)C)[NH-])C3=CC...   \n",
       "2038  [N+](=NCC(=O)N[C@@H]([C@H](O)C1=CC=C([N+]([O-]...   \n",
       "\n",
       "                                                   text label dataset_name  \\\n",
       "0     [In general, molecules that passively diffuse ...   Yes         bbbp   \n",
       "1     [In general, molecules that passively diffuse ...   Yes         bbbp   \n",
       "2     [In general, molecules that passively diffuse ...   Yes         bbbp   \n",
       "3     [In general, molecules that passively diffuse ...   Yes         bbbp   \n",
       "4     [In general, molecules that passively diffuse ...   Yes         bbbp   \n",
       "...                                                 ...   ...          ...   \n",
       "2034  [In general, molecules that passively diffuse ...   Yes         bbbp   \n",
       "2035  [In general, molecules that passively diffuse ...   Yes         bbbp   \n",
       "2036  [In general, molecules that passively diffuse ...   Yes         bbbp   \n",
       "2037  [In general, molecules that passively diffuse ...   Yes         bbbp   \n",
       "2038  [In general, molecules that passively diffuse ...   Yes         bbbp   \n",
       "\n",
       "     task_index molecule_index  split  \n",
       "0             0              0  train  \n",
       "1             0              1  train  \n",
       "2             0              2  train  \n",
       "3             0              3  train  \n",
       "4             0              4  train  \n",
       "...         ...            ...    ...  \n",
       "2034          0           2034  train  \n",
       "2035          0           2035  train  \n",
       "2036          0           2036  train  \n",
       "2037          0           2037  train  \n",
       "2038          0           2038  train  \n",
       "\n",
       "[2039 rows x 7 columns]"
      ]
     },
     "execution_count": 128,
     "metadata": {},
     "output_type": "execute_result"
    }
   ],
   "source": [
    "bbbp_df"
   ]
  },
  {
   "cell_type": "code",
   "execution_count": null,
   "metadata": {},
   "outputs": [],
   "source": []
  },
  {
   "cell_type": "code",
   "execution_count": null,
   "metadata": {},
   "outputs": [],
   "source": []
  },
  {
   "cell_type": "code",
   "execution_count": null,
   "metadata": {},
   "outputs": [],
   "source": []
  },
  {
   "cell_type": "code",
   "execution_count": null,
   "metadata": {},
   "outputs": [],
   "source": []
  },
  {
   "cell_type": "code",
   "execution_count": null,
   "metadata": {},
   "outputs": [],
   "source": []
  }
 ],
 "metadata": {
  "kernelspec": {
   "display_name": "py310_torch2",
   "language": "python",
   "name": "python3"
  },
  "language_info": {
   "codemirror_mode": {
    "name": "ipython",
    "version": 3
   },
   "file_extension": ".py",
   "mimetype": "text/x-python",
   "name": "python",
   "nbconvert_exporter": "python",
   "pygments_lexer": "ipython3",
   "version": "3.10.9"
  },
  "orig_nbformat": 4
 },
 "nbformat": 4,
 "nbformat_minor": 2
}
