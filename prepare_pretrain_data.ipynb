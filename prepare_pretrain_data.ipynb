{
 "cells": [
  {
   "cell_type": "code",
   "execution_count": 1,
   "metadata": {},
   "outputs": [],
   "source": [
    "import os\n",
    "import random\n",
    "import pandas as pd\n",
    "import selfies as sf\n",
    "\n",
    "from glob import glob\n",
    "from tqdm.auto import tqdm\n",
    "from datasets import load_dataset"
   ]
  },
  {
   "cell_type": "code",
   "execution_count": 2,
   "metadata": {},
   "outputs": [],
   "source": [
    "os.makedirs('./preproc', exist_ok=True)"
   ]
  },
  {
   "cell_type": "code",
   "execution_count": 3,
   "metadata": {},
   "outputs": [],
   "source": [
    "smiles = []\n",
    "query = []\n",
    "answer = []\n",
    "\n",
    "smiles_val=[]\n",
    "query_val=[]\n",
    "answer_val=[]"
   ]
  },
  {
   "cell_type": "code",
   "execution_count": 4,
   "metadata": {},
   "outputs": [],
   "source": [
    "mol_inst = load_dataset(\"zjunlp/Mol-Instructions\", 'Molecule-oriented Instructions')"
   ]
  },
  {
   "cell_type": "code",
   "execution_count": 5,
   "metadata": {},
   "outputs": [
    {
     "data": {
      "text/plain": [
       "dict_keys(['description_guided_molecule_design', 'forward_reaction_prediction', 'molecular_description_generation', 'property_prediction', 'reagent_prediction', 'retrosynthesis'])"
      ]
     },
     "execution_count": 5,
     "metadata": {},
     "output_type": "execute_result"
    }
   ],
   "source": [
    "mol_inst.keys()"
   ]
  },
  {
   "cell_type": "code",
   "execution_count": 6,
   "metadata": {},
   "outputs": [
    {
     "data": {
      "application/vnd.jupyter.widget-view+json": {
       "model_id": "3cc415f2383946ac9567595b8b472dbe",
       "version_major": 2,
       "version_minor": 0
      },
      "text/plain": [
       "  0%|          | 0/331261 [00:00<?, ?it/s]"
      ]
     },
     "metadata": {},
     "output_type": "display_data"
    }
   ],
   "source": [
    "for data in tqdm(mol_inst['molecular_description_generation']):\n",
    "    smiles.append(sf.decoder(data['input']))\n",
    "    query.append(data['instruction'])\n",
    "    answer.append(data['output'])"
   ]
  },
  {
   "cell_type": "code",
   "execution_count": 7,
   "metadata": {},
   "outputs": [
    {
     "data": {
      "application/vnd.jupyter.widget-view+json": {
       "model_id": "a9653adb2003441abe5385cc734ab641",
       "version_major": 2,
       "version_minor": 0
      },
      "text/plain": [
       "  0%|          | 0/401229 [00:00<?, ?it/s]"
      ]
     },
     "metadata": {},
     "output_type": "display_data"
    }
   ],
   "source": [
    "for data in tqdm(mol_inst['property_prediction']):\n",
    "    smiles.append(sf.decoder(data['input']))\n",
    "    query.append(data['instruction'])\n",
    "    answer.append(data['output'])"
   ]
  },
  {
   "cell_type": "code",
   "execution_count": 8,
   "metadata": {},
   "outputs": [
    {
     "data": {
      "application/vnd.jupyter.widget-view+json": {
       "model_id": "fca4ae5010f343228c81f61432385938",
       "version_major": 2,
       "version_minor": 0
      },
      "text/plain": [
       "  0%|          | 0/143535 [00:00<?, ?it/s]"
      ]
     },
     "metadata": {},
     "output_type": "display_data"
    }
   ],
   "source": [
    "for data in tqdm(mol_inst['retrosynthesis']):\n",
    "    smiles.append(sf.decoder(data['input']))\n",
    "    query.append(data['instruction'])\n",
    "    output_sfs = data['output'].split('.')\n",
    "    answer.append('.'.join(list(map(sf.decoder, output_sfs))))"
   ]
  },
  {
   "cell_type": "code",
   "execution_count": 9,
   "metadata": {},
   "outputs": [],
   "source": [
    "# from huggingface_hub import snapshot_download\n",
    "# snapshot_download(repo_id=\"haitengzhao/molecule_property_instruction\", repo_type=\"dataset\")"
   ]
  },
  {
   "cell_type": "code",
   "execution_count": 10,
   "metadata": {},
   "outputs": [],
   "source": [
    "bace_parquet = glob('C:\\\\Users\\\\dust\\\\.cache\\\\huggingface\\\\hub\\\\datasets--haitengzhao--molecule_property_instruction\\\\snapshots\\\\aad5c7578e811e1614be9430095de0c431485cf3\\\\data\\\\bace*')[0]"
   ]
  },
  {
   "cell_type": "code",
   "execution_count": 11,
   "metadata": {},
   "outputs": [],
   "source": [
    "bace_df = pd.read_parquet(bace_parquet)"
   ]
  },
  {
   "cell_type": "code",
   "execution_count": 12,
   "metadata": {},
   "outputs": [
    {
     "data": {
      "application/vnd.jupyter.widget-view+json": {
       "model_id": "1d947635f62a46bc9d1890f7d087b06d",
       "version_major": 2,
       "version_minor": 0
      },
      "text/plain": [
       "  0%|          | 0/1513 [00:00<?, ?it/s]"
      ]
     },
     "metadata": {},
     "output_type": "display_data"
    }
   ],
   "source": [
    "for idx, row in tqdm(bace_df.iterrows(), total=len(bace_df)):\n",
    "    if row['split'] == 'train':\n",
    "        smiles.append(row['graph'])\n",
    "        query.append(random.choice(row['text']))\n",
    "        answer.append(row['label'])\n",
    "    elif row['split'] != 'train':\n",
    "        smiles_val.append(row['graph'])\n",
    "        query_val.append(random.choice(row['text']))\n",
    "        answer_val.append(row['label'])"
   ]
  },
  {
   "cell_type": "code",
   "execution_count": 13,
   "metadata": {},
   "outputs": [],
   "source": [
    "bbbp_parquet = glob('C:\\\\Users\\\\dust\\\\.cache\\\\huggingface\\\\hub\\\\datasets--haitengzhao--molecule_property_instruction\\\\snapshots\\\\aad5c7578e811e1614be9430095de0c431485cf3\\\\data\\\\bbbp*')[0]"
   ]
  },
  {
   "cell_type": "code",
   "execution_count": 14,
   "metadata": {},
   "outputs": [],
   "source": [
    "bbbp_df = pd.read_parquet(bbbp_parquet)"
   ]
  },
  {
   "cell_type": "code",
   "execution_count": 15,
   "metadata": {},
   "outputs": [
    {
     "data": {
      "application/vnd.jupyter.widget-view+json": {
       "model_id": "66e9d41bf1ab4749bf934ec8e72c73b6",
       "version_major": 2,
       "version_minor": 0
      },
      "text/plain": [
       "  0%|          | 0/2039 [00:00<?, ?it/s]"
      ]
     },
     "metadata": {},
     "output_type": "display_data"
    }
   ],
   "source": [
    "for idx, row in tqdm(bbbp_df.iterrows(), total=len(bbbp_df)):\n",
    "    if row['split'] == 'train':\n",
    "        smiles.append(row['graph'])\n",
    "        query.append(random.choice(row['text']))\n",
    "        answer.append(row['label'])\n",
    "    elif row['split'] != 'train':\n",
    "        smiles_val.append(row['graph'])\n",
    "        query_val.append(random.choice(row['text']))\n",
    "        answer_val.append(row['label'])"
   ]
  },
  {
   "cell_type": "code",
   "execution_count": 16,
   "metadata": {},
   "outputs": [
    {
     "data": {
      "application/vnd.jupyter.widget-view+json": {
       "model_id": "87809566f626428a8968faec66a4162c",
       "version_major": 2,
       "version_minor": 0
      },
      "text/plain": [
       "  0%|          | 0/26 [00:00<?, ?it/s]"
      ]
     },
     "metadata": {},
     "output_type": "display_data"
    }
   ],
   "source": [
    "chembl_parquets = glob('C:\\\\Users\\\\dust\\\\.cache\\\\huggingface\\\\hub\\\\datasets--haitengzhao--molecule_property_instruction\\\\snapshots\\\\aad5c7578e811e1614be9430095de0c431485cf3\\\\data\\\\chembl*')\n",
    "for chembl_parquet in tqdm(chembl_parquets, total=len(chembl_parquets)):\n",
    "    chembl_df = pd.read_parquet(chembl_parquet)\n",
    "    for idx, row in chembl_df.iterrows():\n",
    "        if row['split'] == 'train':\n",
    "            smiles.append(row['graph'])\n",
    "            query.append(random.choice(row['text']))\n",
    "            answer.append(row['label'])\n",
    "        elif row['split'] != 'train':\n",
    "            smiles_val.append(row['graph'])\n",
    "            query_val.append(random.choice(row['text']))\n",
    "            answer_val.append(row['label'])"
   ]
  },
  {
   "cell_type": "code",
   "execution_count": 17,
   "metadata": {},
   "outputs": [],
   "source": [
    "esol_parquet = glob('C:\\\\Users\\\\dust\\\\.cache\\\\huggingface\\\\hub\\\\datasets--haitengzhao--molecule_property_instruction\\\\snapshots\\\\aad5c7578e811e1614be9430095de0c431485cf3\\\\data\\\\esol*')[0]"
   ]
  },
  {
   "cell_type": "code",
   "execution_count": 18,
   "metadata": {},
   "outputs": [],
   "source": [
    "esol_df = pd.read_parquet(esol_parquet)"
   ]
  },
  {
   "cell_type": "code",
   "execution_count": 19,
   "metadata": {},
   "outputs": [
    {
     "data": {
      "application/vnd.jupyter.widget-view+json": {
       "model_id": "a476985331eb4e1ba9faceadb30fe61d",
       "version_major": 2,
       "version_minor": 0
      },
      "text/plain": [
       "  0%|          | 0/1128 [00:00<?, ?it/s]"
      ]
     },
     "metadata": {},
     "output_type": "display_data"
    }
   ],
   "source": [
    "for idx, row in tqdm(esol_df.iterrows(), total=len(esol_df)):\n",
    "    if row['split'] == 'train':\n",
    "        smiles.append(row['graph'])\n",
    "        query.append(random.choice(row['text']))\n",
    "        answer.append(row['label'])\n",
    "    elif row['split'] != 'train':\n",
    "        smiles_val.append(row['graph'])\n",
    "        query_val.append(random.choice(row['text']))\n",
    "        answer_val.append(row['label'])"
   ]
  },
  {
   "cell_type": "code",
   "execution_count": 20,
   "metadata": {},
   "outputs": [],
   "source": [
    "lipo_parquet = glob('C:\\\\Users\\\\dust\\\\.cache\\\\huggingface\\\\hub\\\\datasets--haitengzhao--molecule_property_instruction\\\\snapshots\\\\aad5c7578e811e1614be9430095de0c431485cf3\\\\data\\\\lipo*')[0]\n",
    "lipo_df = pd.read_parquet(lipo_parquet)"
   ]
  },
  {
   "cell_type": "code",
   "execution_count": 21,
   "metadata": {},
   "outputs": [
    {
     "data": {
      "application/vnd.jupyter.widget-view+json": {
       "model_id": "f5cd29643334406f97080b50539b1d09",
       "version_major": 2,
       "version_minor": 0
      },
      "text/plain": [
       "  0%|          | 0/4200 [00:00<?, ?it/s]"
      ]
     },
     "metadata": {},
     "output_type": "display_data"
    }
   ],
   "source": [
    "for idx, row in tqdm(lipo_df.iterrows(), total=len(lipo_df)):\n",
    "    if row['split'] == 'train':\n",
    "        smiles.append(row['graph'])\n",
    "        query.append(random.choice(row['text']))\n",
    "        answer.append(row['label'])\n",
    "    elif row['split'] != 'train':\n",
    "        smiles_val.append(row['graph'])\n",
    "        query_val.append(random.choice(row['text']))\n",
    "        answer_val.append(row['label'])"
   ]
  },
  {
   "cell_type": "code",
   "execution_count": 22,
   "metadata": {},
   "outputs": [],
   "source": [
    "freesolv_parquet = glob('C:\\\\Users\\\\dust\\\\.cache\\\\huggingface\\\\hub\\\\datasets--haitengzhao--molecule_property_instruction\\\\snapshots\\\\aad5c7578e811e1614be9430095de0c431485cf3\\\\data\\\\freesolv*')[0]\n",
    "freesolv_df = pd.read_parquet(freesolv_parquet)"
   ]
  },
  {
   "cell_type": "code",
   "execution_count": 23,
   "metadata": {},
   "outputs": [
    {
     "data": {
      "application/vnd.jupyter.widget-view+json": {
       "model_id": "ead0cf7453aa420481f959920a735a35",
       "version_major": 2,
       "version_minor": 0
      },
      "text/plain": [
       "  0%|          | 0/642 [00:00<?, ?it/s]"
      ]
     },
     "metadata": {},
     "output_type": "display_data"
    }
   ],
   "source": [
    "for idx, row in tqdm(freesolv_df.iterrows(), total=len(freesolv_df)):\n",
    "    if row['split'] == 'train':\n",
    "        smiles.append(row['graph'])\n",
    "        query.append(random.choice(row['text']))\n",
    "        answer.append(row['label'])\n",
    "    elif row['split'] != 'train':\n",
    "        smiles_val.append(row['graph'])\n",
    "        query_val.append(random.choice(row['text']))\n",
    "        answer_val.append(row['label'])"
   ]
  },
  {
   "cell_type": "code",
   "execution_count": 24,
   "metadata": {},
   "outputs": [],
   "source": [
    "hiv_parquet = glob('C:\\\\Users\\\\dust\\\\.cache\\\\huggingface\\\\hub\\\\datasets--haitengzhao--molecule_property_instruction\\\\snapshots\\\\aad5c7578e811e1614be9430095de0c431485cf3\\\\data\\\\hiv*')[0]\n",
    "hiv_df = pd.read_parquet(hiv_parquet)"
   ]
  },
  {
   "cell_type": "code",
   "execution_count": 25,
   "metadata": {},
   "outputs": [
    {
     "data": {
      "application/vnd.jupyter.widget-view+json": {
       "model_id": "c95c359c90524b64b99ebd60d90298b2",
       "version_major": 2,
       "version_minor": 0
      },
      "text/plain": [
       "  0%|          | 0/41127 [00:00<?, ?it/s]"
      ]
     },
     "metadata": {},
     "output_type": "display_data"
    }
   ],
   "source": [
    "for idx, row in tqdm(hiv_df.iterrows(), total=len(hiv_df)):\n",
    "    if row['split'] == 'train':\n",
    "        smiles.append(row['graph'])\n",
    "        query.append(random.choice(row['text']))\n",
    "        answer.append(row['label'])\n",
    "    elif row['split'] != 'train':\n",
    "        smiles_val.append(row['graph'])\n",
    "        query_val.append(random.choice(row['text']))\n",
    "        answer_val.append(row['label'])"
   ]
  },
  {
   "cell_type": "code",
   "execution_count": 26,
   "metadata": {},
   "outputs": [],
   "source": [
    "muv_parquets = glob('C:\\\\Users\\\\dust\\\\.cache\\\\huggingface\\\\hub\\\\datasets--haitengzhao--molecule_property_instruction\\\\snapshots\\\\aad5c7578e811e1614be9430095de0c431485cf3\\\\data\\\\muv*')"
   ]
  },
  {
   "cell_type": "code",
   "execution_count": 27,
   "metadata": {},
   "outputs": [
    {
     "data": {
      "application/vnd.jupyter.widget-view+json": {
       "model_id": "ede3e83d54404ebbb352cafd071ef081",
       "version_major": 2,
       "version_minor": 0
      },
      "text/plain": [
       "  0%|          | 0/124943 [00:00<?, ?it/s]"
      ]
     },
     "metadata": {},
     "output_type": "display_data"
    },
    {
     "data": {
      "application/vnd.jupyter.widget-view+json": {
       "model_id": "32584b2eee4d4bf4bb21008b366f7ecc",
       "version_major": 2,
       "version_minor": 0
      },
      "text/plain": [
       "  0%|          | 0/124943 [00:00<?, ?it/s]"
      ]
     },
     "metadata": {},
     "output_type": "display_data"
    }
   ],
   "source": [
    "for muv_parquet in muv_parquets:\n",
    "    muv_df = pd.read_parquet(muv_parquet)\n",
    "    for idx, row in tqdm(muv_df.iterrows(), total=len(muv_df)):\n",
    "        if row['split'] == 'train':\n",
    "            smiles.append(row['graph'])\n",
    "            query.append(random.choice(row['text']))\n",
    "            answer.append(row['label'])\n",
    "        elif row['split'] != 'train':\n",
    "            smiles_val.append(row['graph'])\n",
    "            query_val.append(random.choice(row['text']))\n",
    "            answer_val.append(row['label'])"
   ]
  },
  {
   "cell_type": "code",
   "execution_count": 28,
   "metadata": {},
   "outputs": [],
   "source": [
    "tox21_parquet = glob('C:\\\\Users\\\\dust\\\\.cache\\\\huggingface\\\\hub\\\\datasets--haitengzhao--molecule_property_instruction\\\\snapshots\\\\aad5c7578e811e1614be9430095de0c431485cf3\\\\data\\\\tox21*')[0]\n",
    "tox21_df = pd.read_parquet(tox21_parquet)"
   ]
  },
  {
   "cell_type": "code",
   "execution_count": 29,
   "metadata": {},
   "outputs": [
    {
     "data": {
      "application/vnd.jupyter.widget-view+json": {
       "model_id": "14ac2f6da6074f859edc4e6ce25835d9",
       "version_major": 2,
       "version_minor": 0
      },
      "text/plain": [
       "  0%|          | 0/77946 [00:00<?, ?it/s]"
      ]
     },
     "metadata": {},
     "output_type": "display_data"
    }
   ],
   "source": [
    "for idx, row in tqdm(tox21_df.iterrows(), total=len(tox21_df)):\n",
    "    if row['split'] == 'train':\n",
    "        smiles.append(row['graph'])\n",
    "        query.append(random.choice(row['text']))\n",
    "        answer.append(row['label'])\n",
    "    elif row['split'] != 'train':\n",
    "        smiles_val.append(row['graph'])\n",
    "        query_val.append(random.choice(row['text']))\n",
    "        answer_val.append(row['label'])"
   ]
  },
  {
   "cell_type": "code",
   "execution_count": 30,
   "metadata": {},
   "outputs": [],
   "source": [
    "toxcast_parquets = glob('C:\\\\Users\\\\dust\\\\.cache\\\\huggingface\\\\hub\\\\datasets--haitengzhao--molecule_property_instruction\\\\snapshots\\\\aad5c7578e811e1614be9430095de0c431485cf3\\\\data\\\\toxcast*')"
   ]
  },
  {
   "cell_type": "code",
   "execution_count": 31,
   "metadata": {},
   "outputs": [
    {
     "data": {
      "application/vnd.jupyter.widget-view+json": {
       "model_id": "6ccdd2d2dafb4161b8d65ed7ab4c7297",
       "version_major": 2,
       "version_minor": 0
      },
      "text/plain": [
       "  0%|          | 0/372603 [00:00<?, ?it/s]"
      ]
     },
     "metadata": {},
     "output_type": "display_data"
    },
    {
     "data": {
      "application/vnd.jupyter.widget-view+json": {
       "model_id": "6f656f287471478581a2bbe61bcca479",
       "version_major": 2,
       "version_minor": 0
      },
      "text/plain": [
       "  0%|          | 0/372603 [00:00<?, ?it/s]"
      ]
     },
     "metadata": {},
     "output_type": "display_data"
    },
    {
     "data": {
      "application/vnd.jupyter.widget-view+json": {
       "model_id": "7346cfd0b20e4f9098283029ea300a7f",
       "version_major": 2,
       "version_minor": 0
      },
      "text/plain": [
       "  0%|          | 0/372603 [00:00<?, ?it/s]"
      ]
     },
     "metadata": {},
     "output_type": "display_data"
    },
    {
     "data": {
      "application/vnd.jupyter.widget-view+json": {
       "model_id": "0f13eebc91cf45b8b2f3fa9b21d49ce7",
       "version_major": 2,
       "version_minor": 0
      },
      "text/plain": [
       "  0%|          | 0/372603 [00:00<?, ?it/s]"
      ]
     },
     "metadata": {},
     "output_type": "display_data"
    }
   ],
   "source": [
    "for toxcast_parquet in toxcast_parquets:\n",
    "    toxcast_df = pd.read_parquet(toxcast_parquet)\n",
    "    for idx, row in tqdm(toxcast_df.iterrows(), total=len(toxcast_df)):\n",
    "        if row['split'] == 'train':\n",
    "            smiles.append(row['graph'])\n",
    "            query.append(random.choice(row['text']))\n",
    "            answer.append(row['label'])\n",
    "        elif row['split'] != 'train':\n",
    "            smiles_val.append(row['graph'])\n",
    "            query_val.append(random.choice(row['text']))\n",
    "            answer_val.append(row['label'])"
   ]
  },
  {
   "cell_type": "code",
   "execution_count": 32,
   "metadata": {},
   "outputs": [],
   "source": [
    "cyp450_parquet = glob('C:\\\\Users\\\\dust\\\\.cache\\\\huggingface\\\\hub\\\\datasets--haitengzhao--molecule_property_instruction\\\\snapshots\\\\aad5c7578e811e1614be9430095de0c431485cf3\\\\data\\\\cyp450*')[0]\n",
    "cyp450_df = pd.read_parquet(cyp450_parquet)"
   ]
  },
  {
   "cell_type": "code",
   "execution_count": 33,
   "metadata": {},
   "outputs": [
    {
     "data": {
      "application/vnd.jupyter.widget-view+json": {
       "model_id": "3087528719c946efbd7fe8e17954f663",
       "version_major": 2,
       "version_minor": 0
      },
      "text/plain": [
       "  0%|          | 0/53178 [00:00<?, ?it/s]"
      ]
     },
     "metadata": {},
     "output_type": "display_data"
    }
   ],
   "source": [
    "for idx, row in tqdm(cyp450_df.iterrows(), total=len(cyp450_df)):\n",
    "    if row['split'] == 'train':\n",
    "        smiles.append(row['graph'])\n",
    "        query.append(random.choice(row['text']))\n",
    "        answer.append(row['label'])\n",
    "    elif row['split'] != 'train':\n",
    "        smiles_val.append(row['graph'])\n",
    "        query_val.append(random.choice(row['text']))\n",
    "        answer_val.append(row['label'])"
   ]
  },
  {
   "cell_type": "code",
   "execution_count": 34,
   "metadata": {},
   "outputs": [],
   "source": [
    "pcba_parquets = glob('C:\\\\Users\\\\dust\\\\.cache\\\\huggingface\\\\hub\\\\datasets--haitengzhao--molecule_property_instruction\\\\snapshots\\\\aad5c7578e811e1614be9430095de0c431485cf3\\\\data\\\\pcba*')"
   ]
  },
  {
   "cell_type": "code",
   "execution_count": 35,
   "metadata": {},
   "outputs": [
    {
     "data": {
      "application/vnd.jupyter.widget-view+json": {
       "model_id": "9c25af6e03994cbbb09abe6fe5165638",
       "version_major": 2,
       "version_minor": 0
      },
      "text/plain": [
       "  0%|          | 0/44 [00:00<?, ?it/s]"
      ]
     },
     "metadata": {},
     "output_type": "display_data"
    }
   ],
   "source": [
    "for pcba_parquet in tqdm(pcba_parquets, total=len(pcba_parquets)):\n",
    "    pcba_df = pd.read_parquet(pcba_parquet)\n",
    "    for idx, row in pcba_df.iterrows():\n",
    "        if row['split'] == 'train':\n",
    "            smiles.append(row['graph'])\n",
    "            query.append(random.choice(row['text']))\n",
    "            answer.append(row['label'])\n",
    "        elif row['split'] != 'train':\n",
    "            smiles_val.append(row['graph'])\n",
    "            query_val.append(random.choice(row['text']))\n",
    "            answer_val.append(row['label'])"
   ]
  },
  {
   "cell_type": "code",
   "execution_count": 36,
   "metadata": {},
   "outputs": [],
   "source": [
    "chembl_drug_inst = load_dataset(\"alxfgh/ChEMBL_Drug_Instruction_Tuning\")"
   ]
  },
  {
   "cell_type": "code",
   "execution_count": 37,
   "metadata": {},
   "outputs": [
    {
     "data": {
      "application/vnd.jupyter.widget-view+json": {
       "model_id": "697f4c45e64e49a2b7a4f4706dc0e9f0",
       "version_major": 2,
       "version_minor": 0
      },
      "text/plain": [
       "  0%|          | 0/129699 [00:00<?, ?it/s]"
      ]
     },
     "metadata": {},
     "output_type": "display_data"
    }
   ],
   "source": [
    "for data in tqdm(chembl_drug_inst['train']):\n",
    "    smiles.append(data['SMILES'])\n",
    "    query.append(data['Question'])\n",
    "    answer.append(data['Answer'])"
   ]
  },
  {
   "cell_type": "code",
   "execution_count": 38,
   "metadata": {},
   "outputs": [],
   "source": [
    "pubchem_drug_inst = load_dataset(\"alxfgh/PubChem_Desc_DrugChat\")"
   ]
  },
  {
   "cell_type": "code",
   "execution_count": 39,
   "metadata": {},
   "outputs": [
    {
     "data": {
      "application/vnd.jupyter.widget-view+json": {
       "model_id": "861ff3011da94c5c80f08073208a6a58",
       "version_major": 2,
       "version_minor": 0
      },
      "text/plain": [
       "  0%|          | 0/13818 [00:00<?, ?it/s]"
      ]
     },
     "metadata": {},
     "output_type": "display_data"
    }
   ],
   "source": [
    "for data in tqdm(pubchem_drug_inst['train']):\n",
    "    smiles.append(data['SMILES'])\n",
    "    query.append(random.choice(['Describe the molecule.', 'Give me a description of the molecule.', 'What is the description of the molecule?', 'Explain the molecule', 'Information about the molecule']))\n",
    "    answer.append(data['Descriptor'])"
   ]
  },
  {
   "cell_type": "code",
   "execution_count": 40,
   "metadata": {},
   "outputs": [
    {
     "data": {
      "text/plain": [
       "(53635429, 53635429, 53635429)"
      ]
     },
     "execution_count": 40,
     "metadata": {},
     "output_type": "execute_result"
    }
   ],
   "source": [
    "len(smiles), len(query), len(answer)"
   ]
  },
  {
   "cell_type": "code",
   "execution_count": 41,
   "metadata": {},
   "outputs": [],
   "source": [
    "instruction_df = pd.DataFrame(columns=['smiles', 'query', 'answer'])\n",
    "instruction_df['smiles'] = smiles\n",
    "instruction_df['query'] = query\n",
    "instruction_df['answer'] = answer\n",
    "\n",
    "instruction_df.to_csv('./preproc/instruction.csv', index=False)"
   ]
  },
  {
   "cell_type": "code",
   "execution_count": 42,
   "metadata": {},
   "outputs": [],
   "source": [
    "instruction_val_df = pd.DataFrame(columns=['smiles', 'query', 'answer'])\n",
    "instruction_val_df['smiles'] = smiles_val\n",
    "instruction_val_df['query'] = query_val\n",
    "instruction_val_df['answer'] = answer_val\n",
    "\n",
    "instruction_val_df.to_csv('./preproc/instruction_val.csv', index=False)"
   ]
  },
  {
   "cell_type": "code",
   "execution_count": 41,
   "metadata": {},
   "outputs": [],
   "source": [
    "smiles=[]\n",
    "query=[]\n",
    "answer=[]\n",
    "\n",
    "smiles_val=[]\n",
    "query_val=[]\n",
    "answer_val=[]"
   ]
  },
  {
   "cell_type": "code",
   "execution_count": 42,
   "metadata": {},
   "outputs": [],
   "source": [
    "zinc_cannon = load_dataset(\"sagawa/ZINC-canonicalized\")"
   ]
  },
  {
   "cell_type": "code",
   "execution_count": 43,
   "metadata": {},
   "outputs": [
    {
     "data": {
      "application/vnd.jupyter.widget-view+json": {
       "model_id": "419e03ef66d846f6b8c214134fefba83",
       "version_major": 2,
       "version_minor": 0
      },
      "text/plain": [
       "  0%|          | 0/20693269 [00:00<?, ?it/s]"
      ]
     },
     "metadata": {},
     "output_type": "display_data"
    },
    {
     "data": {
      "application/vnd.jupyter.widget-view+json": {
       "model_id": "4f8e6e9bed6c43f7b93166d8ce5a2e73",
       "version_major": 2,
       "version_minor": 0
      },
      "text/plain": [
       "  0%|          | 0/2299253 [00:00<?, ?it/s]"
      ]
     },
     "metadata": {},
     "output_type": "display_data"
    }
   ],
   "source": [
    "for data in tqdm(zinc_cannon['train']):\n",
    "    smiles.append(data['smiles'])\n",
    "    query.append(random.choice(['What is the SMILES of this molecule?', 'What is the SMILES string of this molecule?', 'What is the SMILES string of this compound?', 'What is the SMILES of this compound?', 'Give me the SMILES of this molecule.', 'Give me the SMILES of this compound.', 'Give me the SMILES string of this molecule.', 'Give me the SMILES string of this compound.']))\n",
    "    answer.append(data['smiles'])\n",
    "for data in tqdm(zinc_cannon['validation']):\n",
    "    smiles_val.append(data['smiles'])\n",
    "    query_val.append(random.choice(['What is the SMILES of this molecule?', 'What is the SMILES string of this molecule?', 'What is the SMILES string of this compound?', 'What is the SMILES of this compound?', 'Give me the SMILES of this molecule.', 'Give me the SMILES of this compound.', 'Give me the SMILES string of this molecule.', 'Give me the SMILES string of this compound.']))\n",
    "    answer_val.append(data['smiles'])"
   ]
  },
  {
   "cell_type": "code",
   "execution_count": null,
   "metadata": {},
   "outputs": [],
   "source": [
    "pretrain_df = pd.DataFrame(columns=['smiles', 'query', 'answer'])\n",
    "pretrain_df['smiles'] = smiles\n",
    "pretrain_df['query'] = query\n",
    "pretrain_df['answer'] = answer\n",
    "\n",
    "pretrain_df.sample(100).to_csv('./preproc/pretrain_sample.csv', index=False)\n",
    "pretrain_df.to_csv('./preproc/pretrain.csv', index=False)"
   ]
  },
  {
   "cell_type": "code",
   "execution_count": null,
   "metadata": {},
   "outputs": [],
   "source": [
    "pretrain_val_df = pd.DataFrame(columns=['smiles', 'query', 'answer'])\n",
    "pretrain_val_df['smiles'] = smiles_val\n",
    "pretrain_val_df['query'] = query_val\n",
    "pretrain_val_df['answer'] = answer_val\n",
    "\n",
    "pretrain_val_df.sample(100).to_csv('./preproc/pretrain_val_sample.csv', index=False)\n",
    "pretrain_val_df.to_csv('./preproc/pretrain_val.csv', index=False)"
   ]
  },
  {
   "cell_type": "code",
   "execution_count": null,
   "metadata": {},
   "outputs": [],
   "source": []
  }
 ],
 "metadata": {
  "kernelspec": {
   "display_name": "py310_torch2",
   "language": "python",
   "name": "python3"
  },
  "language_info": {
   "codemirror_mode": {
    "name": "ipython",
    "version": 3
   },
   "file_extension": ".py",
   "mimetype": "text/x-python",
   "name": "python",
   "nbconvert_exporter": "python",
   "pygments_lexer": "ipython3",
   "version": "3.10.9"
  },
  "orig_nbformat": 4
 },
 "nbformat": 4,
 "nbformat_minor": 2
}
