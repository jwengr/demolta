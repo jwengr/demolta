{
 "cells": [
  {
   "cell_type": "code",
   "execution_count": 40,
   "metadata": {},
   "outputs": [],
   "source": [
    "import io\n",
    "import requests\n",
    "import pandas as pd\n",
    "\n",
    "from tqdm.auto import tqdm"
   ]
  },
  {
   "cell_type": "code",
   "execution_count": 83,
   "metadata": {},
   "outputs": [],
   "source": [
    "def get_data_table(aid):\n",
    "    url = f\"https://pubchem.ncbi.nlm.nih.gov/assay/pcget.cgi?query=download&record_type=datatable&actvty=all&response_type=save&aid={aid}\"\n",
    "    response = requests.get(url)\n",
    "    if response.status_code == 200:\n",
    "        df = pd.read_csv(io.StringIO(response.text), delimiter=',')\n",
    "        return df\n",
    "    else:\n",
    "        return None\n",
    "    \n",
    "def preproc_df(df, assay_name):\n",
    "    df = df[df['PUBCHEM_EXT_DATASOURCE_SMILES'].notna()]\n",
    "    df = df.loc[:,df.columns[df.isna().mean(0) != 1.0]]\n",
    "    df = df.drop(['PUBCHEM_RESULT_TAG', 'PUBCHEM_SID', 'PUBCHEM_CID'], axis = 1)\n",
    "    df['text'] = df.apply(lambda row: str(row[1:]), axis=1)\n",
    "    df['smiles'] = df['PUBCHEM_EXT_DATASOURCE_SMILES']\n",
    "    df['query'] = assay_name\n",
    "    df['answer'] = df['text']\n",
    "    return df[['smiles', 'query', 'answer']]"
   ]
  },
  {
   "cell_type": "code",
   "execution_count": 37,
   "metadata": {},
   "outputs": [
    {
     "name": "stderr",
     "output_type": "stream",
     "text": [
      "C:\\Users\\dust\\AppData\\Local\\Temp\\ipykernel_16636\\1042594141.py:1: DtypeWarning: Columns (16,20) have mixed types. Specify dtype option on import or set low_memory=False.\n",
      "  data = pd.read_csv('data/PubChem_bioassay_text_Liver microsomes.csv')\n"
     ]
    }
   ],
   "source": [
    "data = pd.read_csv('data/PubChem_bioassay_text_Liver microsomes.csv')"
   ]
  },
  {
   "cell_type": "code",
   "execution_count": 90,
   "metadata": {},
   "outputs": [
    {
     "data": {
      "application/vnd.jupyter.widget-view+json": {
       "model_id": "7f0b81757db347b3943c496c2aeaa5f1",
       "version_major": 2,
       "version_minor": 0
      },
      "text/plain": [
       "  0%|          | 0/34085 [00:00<?, ?it/s]"
      ]
     },
     "metadata": {},
     "output_type": "display_data"
    }
   ],
   "source": [
    "dfs = []\n",
    "for idx, row in tqdm(data.iterrows(), total=len(data)):\n",
    "    try:\n",
    "        aid = row['aid']\n",
    "        assay_name = row['aidname']\n",
    "        df = get_data_table(aid)\n",
    "        if df is None: continue\n",
    "        df = preproc_df(df, assay_name)\n",
    "        dfs.append(df)\n",
    "    except Exception as e:\n",
    "        print(aid, e)\n",
    "        continue"
   ]
  },
  {
   "cell_type": "code",
   "execution_count": 89,
   "metadata": {},
   "outputs": [
    {
     "data": {
      "text/html": [
       "<div>\n",
       "<style scoped>\n",
       "    .dataframe tbody tr th:only-of-type {\n",
       "        vertical-align: middle;\n",
       "    }\n",
       "\n",
       "    .dataframe tbody tr th {\n",
       "        vertical-align: top;\n",
       "    }\n",
       "\n",
       "    .dataframe thead th {\n",
       "        text-align: right;\n",
       "    }\n",
       "</style>\n",
       "<table border=\"1\" class=\"dataframe\">\n",
       "  <thead>\n",
       "    <tr style=\"text-align: right;\">\n",
       "      <th></th>\n",
       "      <th>smiles</th>\n",
       "      <th>query</th>\n",
       "      <th>answer</th>\n",
       "    </tr>\n",
       "  </thead>\n",
       "  <tbody>\n",
       "    <tr>\n",
       "      <th>2</th>\n",
       "      <td>COC1=CC(=CC(=C1OC)OC)C(=O)C2=CC=CC(=C2)C3=CC4=...</td>\n",
       "      <td>Metabolic stability in rat liver microsomes as...</td>\n",
       "      <td>PUBCHEM_ACTIVITY_OUTCOME    Unspecified\\nStand...</td>\n",
       "    </tr>\n",
       "  </tbody>\n",
       "</table>\n",
       "</div>"
      ],
      "text/plain": [
       "                                              smiles  \\\n",
       "2  COC1=CC(=CC(=C1OC)OC)C(=O)C2=CC=CC(=C2)C3=CC4=...   \n",
       "\n",
       "                                               query  \\\n",
       "2  Metabolic stability in rat liver microsomes as...   \n",
       "\n",
       "                                              answer  \n",
       "2  PUBCHEM_ACTIVITY_OUTCOME    Unspecified\\nStand...  "
      ]
     },
     "execution_count": 89,
     "metadata": {},
     "output_type": "execute_result"
    }
   ],
   "source": [
    "df"
   ]
  },
  {
   "cell_type": "code",
   "execution_count": 18,
   "metadata": {},
   "outputs": [],
   "source": [
    "url = 'https://pubchem.ncbi.nlm.nih.gov/bioassay/157#section=Data-Table&embed=true'"
   ]
  },
  {
   "cell_type": "code",
   "execution_count": 20,
   "metadata": {},
   "outputs": [],
   "source": [
    "response = requests.get(url)"
   ]
  },
  {
   "cell_type": "code",
   "execution_count": 23,
   "metadata": {},
   "outputs": [],
   "source": [
    "if response.status_code == 200:\n",
    "    html_content = response.text\n",
    "else:\n",
    "    print(\"Failed to retrieve the web page.\")"
   ]
  },
  {
   "cell_type": "code",
   "execution_count": null,
   "metadata": {},
   "outputs": [],
   "source": [
    "https://pubchem.ncbi.nlm.nih.gov/assay/pcget.cgi?query=download&record_type=datatable&actvty=all&response_type=save&aid=4447"
   ]
  },
  {
   "cell_type": "code",
   "execution_count": 30,
   "metadata": {},
   "outputs": [
    {
     "name": "stdout",
     "output_type": "stream",
     "text": [
      "                         PUBCHEM_RESULT_TAG  PUBCHEM_SID  PUBCHEM_CID  \\\n",
      "0                               RESULT_TYPE          NaN          NaN   \n",
      "1                              RESULT_DESCR          NaN          NaN   \n",
      "2                               RESULT_UNIT          NaN          NaN   \n",
      "3            RESULT_IS_ACTIVE_CONCENTRATION          NaN          NaN   \n",
      "4  RESULT_IS_ACTIVE_CONCENTRATION_QUALIFIER          NaN          NaN   \n",
      "\n",
      "  PUBCHEM_EXT_DATASOURCE_SMILES PUBCHEM_ACTIVITY_OUTCOME  \\\n",
      "0                           NaN                      NaN   \n",
      "1                           NaN                      NaN   \n",
      "2                           NaN                      NaN   \n",
      "3                           NaN                      NaN   \n",
      "4                           NaN                      NaN   \n",
      "\n",
      "   PUBCHEM_ACTIVITY_SCORE  PUBCHEM_ACTIVITY_URL  PUBCHEM_ASSAYDATA_COMMENT  \\\n",
      "0                     NaN                   NaN                        NaN   \n",
      "1                     NaN                   NaN                        NaN   \n",
      "2                     NaN                   NaN                        NaN   \n",
      "3                     NaN                   NaN                        NaN   \n",
      "4                     NaN                   NaN                        NaN   \n",
      "\n",
      "                              PubChem Standard Value  \\\n",
      "0                                              FLOAT   \n",
      "1  PubChem standardized value transformed from 'S...   \n",
      "2                                         MICROMOLAR   \n",
      "3                                               TRUE   \n",
      "4                                                NaN   \n",
      "\n",
      "                                       Standard Type  \\\n",
      "0                                             STRING   \n",
      "1  Standardized activity type (e.g. IC50 rather t...   \n",
      "2                                                NaN   \n",
      "3                                                NaN   \n",
      "4                                                NaN   \n",
      "\n",
      "                               Standard Relation  \\\n",
      "0                                         STRING   \n",
      "1  Qualifier (e.g. >, <, =) for 'Standard Value'   \n",
      "2                                            NaN   \n",
      "3                                            NaN   \n",
      "4                                           TRUE   \n",
      "\n",
      "                                      Standard Value  \\\n",
      "0                                              FLOAT   \n",
      "1  Standardized activity value transformed to com...   \n",
      "2                                                NaN   \n",
      "3                                                NaN   \n",
      "4                                                NaN   \n",
      "\n",
      "                                      Standard Units  \n",
      "0                                             STRING  \n",
      "1  Selected units for 'Standard Type': e.g. conce...  \n",
      "2                                                NaN  \n",
      "3                                                NaN  \n",
      "4                                                NaN  \n"
     ]
    }
   ],
   "source": [
    "import requests\n",
    "import pandas as pd\n",
    "\n",
    "\n",
    "# Define the URL of the CSV file\n",
    "url = \"https://pubchem.ncbi.nlm.nih.gov/assay/pcget.cgi?query=download&record_type=datatable&actvty=all&response_type=save&aid=4447\"\n",
    "\n",
    "# Send an HTTP GET request to download the CSV file\n",
    "response = requests.get(url)\n",
    "\n",
    "# Check if the request was successful (status code 200)\n",
    "if response.status_code == 200:\n",
    "    # Read the CSV data into a pandas DataFrame\n",
    "    df = pd.read_csv(io.StringIO(response.text), delimiter=',')\n",
    "\n",
    "    # Now, df contains the data from the CSV file, and you can work with it as needed\n",
    "    # For example, you can print the first few rows of the DataFrame\n",
    "    print(df.head())\n",
    "else:\n",
    "    print(\"Failed to download the CSV file\")\n"
   ]
  },
  {
   "cell_type": "code",
   "execution_count": 43,
   "metadata": {},
   "outputs": [],
   "source": [
    "df = df[df['PUBCHEM_EXT_DATASOURCE_SMILES'].notna()]"
   ]
  },
  {
   "cell_type": "code",
   "execution_count": 53,
   "metadata": {},
   "outputs": [],
   "source": [
    "df = df.loc[:,df.columns[df.isna().mean(0) != 1.0]]"
   ]
  },
  {
   "cell_type": "code",
   "execution_count": 58,
   "metadata": {},
   "outputs": [],
   "source": [
    "df = df.drop(['PUBCHEM_RESULT_TAG', 'PUBCHEM_SID', 'PUBCHEM_CID'], axis = 1)"
   ]
  },
  {
   "cell_type": "code",
   "execution_count": 65,
   "metadata": {},
   "outputs": [],
   "source": [
    "if len(df)>=2:\n",
    "    df.loc[:,df.nunique()!=1]"
   ]
  },
  {
   "cell_type": "code",
   "execution_count": null,
   "metadata": {},
   "outputs": [],
   "source": []
  },
  {
   "cell_type": "code",
   "execution_count": 70,
   "metadata": {},
   "outputs": [],
   "source": [
    "columns = df.columns[1:]"
   ]
  },
  {
   "cell_type": "code",
   "execution_count": 75,
   "metadata": {},
   "outputs": [],
   "source": [
    "query = '(' + ', '.join(columns) + ') of this molecule is:'"
   ]
  },
  {
   "cell_type": "code",
   "execution_count": 80,
   "metadata": {},
   "outputs": [],
   "source": [
    "df = df.drop('text',axis=1)"
   ]
  },
  {
   "cell_type": "code",
   "execution_count": 81,
   "metadata": {},
   "outputs": [
    {
     "data": {
      "text/plain": [
       "5     PUBCHEM_ACTIVITY_OUTCOME    Active\\nPubChem St...\n",
       "6     PUBCHEM_ACTIVITY_OUTCOME    Active\\nPubChem St...\n",
       "7     PUBCHEM_ACTIVITY_OUTCOME    Active\\nPubChem St...\n",
       "8     PUBCHEM_ACTIVITY_OUTCOME    Active\\nPubChem St...\n",
       "9     PUBCHEM_ACTIVITY_OUTCOME    Active\\nPubChem St...\n",
       "10    PUBCHEM_ACTIVITY_OUTCOME    Unspecified\\nPubCh...\n",
       "11    PUBCHEM_ACTIVITY_OUTCOME    Active\\nPubChem St...\n",
       "12    PUBCHEM_ACTIVITY_OUTCOME    Active\\nPubChem St...\n",
       "13    PUBCHEM_ACTIVITY_OUTCOME    Unspecified\\nPubCh...\n",
       "dtype: object"
      ]
     },
     "execution_count": 81,
     "metadata": {},
     "output_type": "execute_result"
    }
   ],
   "source": [
    "df.apply(lambda row: str(row[1:]), axis=1)"
   ]
  },
  {
   "cell_type": "code",
   "execution_count": 79,
   "metadata": {},
   "outputs": [
    {
     "data": {
      "text/plain": [
       "'(PUBCHEM_ACTIVITY_OUTCOME, PubChem Standard Value, Standard Type, Standard Relation, Standard Value, Standard Units) of this molecule is:PUBCHEM_ACTIVITY_OUTCOME    Active\\nPubChem Standard Value       0.024\\nStandard Type                   Ki\\nStandard Relation                =\\nStandard Value                  24\\nStandard Units                  nM\\nName: 5, dtype: object'"
      ]
     },
     "execution_count": 79,
     "metadata": {},
     "output_type": "execute_result"
    }
   ],
   "source": [
    "df['text'].values[0]"
   ]
  }
 ],
 "metadata": {
  "kernelspec": {
   "display_name": "py310_torch2",
   "language": "python",
   "name": "python3"
  },
  "language_info": {
   "codemirror_mode": {
    "name": "ipython",
    "version": 3
   },
   "file_extension": ".py",
   "mimetype": "text/x-python",
   "name": "python",
   "nbconvert_exporter": "python",
   "pygments_lexer": "ipython3",
   "version": "3.10.9"
  },
  "orig_nbformat": 4
 },
 "nbformat": 4,
 "nbformat_minor": 2
}
